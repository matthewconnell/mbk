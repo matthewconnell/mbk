{
 "cells": [
  {
   "cell_type": "code",
   "execution_count": 1,
   "metadata": {},
   "outputs": [],
   "source": [
    "import pandas as pd\n",
    "import altair as alt"
   ]
  },
  {
   "cell_type": "code",
   "execution_count": 10,
   "metadata": {},
   "outputs": [],
   "source": [
    "files = [\"adolescent-births-2016\", \n",
    "        \"birth-rates-for-young-adult-women-2016\",\n",
    "        \"child-housing-problems-2016\",\n",
    "        \"child-living-arrangements-2016\",\n",
    "        \"child-maltreatment-2016\",\n",
    "        \"child-poverty-percent-2016\",\n",
    "        \"exposure-to-violence-among-children-2016\",\n",
    "        \"naep04-reading-2016\",\n",
    "        \"young-adult-living-arrangements-2016\"]\n",
    "\n",
    "CSVs = []\n",
    "\n",
    "for file in files:\n",
    "    \n",
    "    string_name = \"data/\" + file + \".csv\"\n",
    "    csv = pd.read_csv(string_name, encoding = 'cp437')\n",
    "    \n",
    "    # Some CSVs have encoding issue where '-' is encoded as 'û'\n",
    "    csv = csv.replace('û', '-', regex=True) \n",
    "    \n",
    "    # Add 'Notes' column if it does not exist\n",
    "    csv[\"Notes\"] = 0   \n",
    "    \n",
    "    # Add 'Note' column if it does not exist\n",
    "    csv[\"Note\"] = 0 \n",
    "    \n",
    "    # Drop Notes column\n",
    "    csv = csv.drop(columns = [\"Notes\", \"Note\"])\n",
    "    \n",
    "    if \"Standard Error on Percentage\" in csv.columns:\n",
    "        csv.drop(columns = \"Standard Error on Percentage\")\n",
    "    \n",
    "    #csv = csv.dropna()   # Drop rows with NAs\n",
    "    CSVs.append(csv)"
   ]
  },
  {
   "cell_type": "code",
   "execution_count": 119,
   "metadata": {},
   "outputs": [],
   "source": [
    "# Rename columns to be more sensible\n",
    "adolescent_births = CSVs[0].rename(columns={\"Percentage\": \"Rate (per 1,000 Females)\"}\n",
    "              ).drop(columns = [\"Characteristic\"]\n",
    "                    ).dropna()\n",
    "\n",
    "# Drop unnecessary columns ('characteristic' is functionally the same as 'ethnicity' column)\n",
    "young_woman_births = CSVs[1].drop(columns=\"Characteristic\").dropna()\n",
    "\n",
    "young_woman_births = young_woman_births[['Race/ethnicity', 'Year', 'Rate (per 1,000 Females)', 'Age']]\n",
    "\n",
    "# Remove standard error columns\n",
    "# Remove 'count' column and leave percentage\n",
    "# TODO: drop rows with \"All households\"\n",
    "child_housing_problems = CSVs[2].drop(columns=['Standard Error on Count (in thousands)',\n",
    "                                              'Standard Error on Percentage',\n",
    "                                              'Count (in thousands)'])\n",
    "\n",
    "# Drop 'characteristic' as it contains info overlapping with \"race/ethnicity\" column\n",
    "# Drop \"Margin of error\" column\n",
    "child_living_arrangements = CSVs[3].drop(columns=[\"Characteristic\",\n",
    "                                                  \"Margin of Error on Percentages\"]).dropna()\n",
    "\n",
    "# Majority of Age column is NA\n",
    "child_maltreatment = CSVs[4].drop(columns = [\"Characteristic\",\n",
    "                                            \"Age\"]).dropna()\n",
    "\n",
    "\n",
    "child_poverty_percent = CSVs[5].drop(columns=[\"Characteristic\", \n",
    "                                              \"Note on Percent\",\n",
    "                                             \"Standard Error on Percentage\"]).dropna()\n",
    "\n",
    "# Drop unnecessary columns\n",
    "exposure_to_violent_crime = CSVs[6].drop(columns=[\"Characteristic\", \n",
    "                                                  \"Note on Percent\", \n",
    "                                                  \"Note on Count\",\n",
    "                                                 \"Standard Error on Percentage\",\n",
    "                                                 \"Count\",\n",
    "                                                 \"Standard Error on Count\"]).dropna()\n",
    "\n",
    "reading_scores = CSVs[7].drop(columns=[\"Characteristic\",\n",
    "                                       \"Standard Error\"]).dropna()\n",
    "\n",
    "young_adult_living_arrangements = CSVs[8].drop(columns=[\"Characteristic\",\n",
    "                                                        \"Count\",\n",
    "                                                        \"Margin of Error on Percentages (for standard error divide by 1.645)\"]).dropna()\n",
    "\n",
    "## TODO: Clean up column names"
   ]
  },
  {
   "cell_type": "code",
   "execution_count": 120,
   "metadata": {},
   "outputs": [],
   "source": [
    "# Add column to be consistent with 'young_woman_births' df\n",
    "adolescent_births[\"Age\"] = \"Ages 15-17\"\n",
    "#adolesent_births"
   ]
  },
  {
   "cell_type": "code",
   "execution_count": 121,
   "metadata": {},
   "outputs": [],
   "source": [
    "# Change \"Year type to int\n",
    "young_woman_births[\"Year\"] = young_woman_births[\"Year\"].astype(\"int64\")"
   ]
  },
  {
   "cell_type": "code",
   "execution_count": 107,
   "metadata": {},
   "outputs": [],
   "source": [
    "test = \"Total - Hispanic, With severe housing problems\""
   ]
  },
  {
   "cell_type": "code",
   "execution_count": null,
   "metadata": {},
   "outputs": [],
   "source": []
  },
  {
   "cell_type": "code",
   "execution_count": 123,
   "metadata": {},
   "outputs": [
    {
     "data": {
      "text/plain": [
       "['Total - Hispanic', ' With severe housing problems']"
      ]
     },
     "execution_count": 123,
     "metadata": {},
     "output_type": "execute_result"
    }
   ],
   "source": [
    "test.split(sep = \",\")"
   ]
  },
  {
   "cell_type": "code",
   "execution_count": 124,
   "metadata": {},
   "outputs": [],
   "source": [
    "child_housing_problems[\"Characteristic\"] = child_housing_problems[\"Characteristic\"].str.replace(\"Total - \", \"\")\n",
    "#child_housing_problems"
   ]
  },
  {
   "cell_type": "code",
   "execution_count": 125,
   "metadata": {},
   "outputs": [],
   "source": [
    "# Split the character column by racial category and housing variable\n",
    "child_housing_problems[\"Characteristic\"].str.rsplit(\", \", expand=True, n=1)\n",
    "\n",
    "# Set the housing variable as a column in the df\n",
    "child_housing_problems[\"housing_situation\"] = child_housing_problems[\"Characteristic\"].str.rsplit(\", \", expand=True, n=1)[1]\n",
    "\n",
    "# Set the characteristic column to be consistent with the other dataframes\n",
    "child_housing_problems[\"characteristic\"] = child_housing_problems[\"Characteristic\"].str.rsplit(\", \", expand=True, n=1)[0]\n",
    "\n",
    "# Drop the old Characteristic column\n",
    "child_housing_problems = child_housing_problems.drop(columns = [\"Characteristic\"])\n",
    "\n",
    "# child_housing_problems"
   ]
  },
  {
   "cell_type": "code",
   "execution_count": 126,
   "metadata": {},
   "outputs": [],
   "source": [
    "# TODO\n",
    "# How to aggregate this data so it's useful \n",
    "# child_maltreatment"
   ]
  },
  {
   "cell_type": "code",
   "execution_count": 127,
   "metadata": {},
   "outputs": [],
   "source": [
    "pd.set_option('display.max_rows', 100)\n",
    "child_poverty_percent['percent_living_in_poverty'] = child_poverty_percent['Percentage']\n",
    "child_poverty_percent = child_poverty_percent.drop(columns = \"Percentage\")\n"
   ]
  },
  {
   "cell_type": "code",
   "execution_count": 128,
   "metadata": {},
   "outputs": [],
   "source": [
    "# Change column name\n",
    "exposure_to_violent_crime['percent_exposed_to_violent_crime'] = exposure_to_violent_crime['Percentage']\n",
    "exposure_to_violent_crime = exposure_to_violent_crime.drop(columns = 'Percentage')"
   ]
  },
  {
   "cell_type": "code",
   "execution_count": 129,
   "metadata": {},
   "outputs": [],
   "source": [
    "reading_scores['4th_grade_reading_scale_scores'] = reading_scores['Score']\n",
    "reading_scores = reading_scores.drop(columns = 'Score')"
   ]
  },
  {
   "cell_type": "code",
   "execution_count": null,
   "metadata": {},
   "outputs": [],
   "source": [
    "\n"
   ]
  },
  {
   "cell_type": "code",
   "execution_count": null,
   "metadata": {},
   "outputs": [],
   "source": []
  },
  {
   "cell_type": "code",
   "execution_count": 177,
   "metadata": {},
   "outputs": [
    {
     "data": {
      "text/html": [
       "<div>\n",
       "<style scoped>\n",
       "    .dataframe tbody tr th:only-of-type {\n",
       "        vertical-align: middle;\n",
       "    }\n",
       "\n",
       "    .dataframe tbody tr th {\n",
       "        vertical-align: top;\n",
       "    }\n",
       "\n",
       "    .dataframe thead th {\n",
       "        text-align: right;\n",
       "    }\n",
       "</style>\n",
       "<table border=\"1\" class=\"dataframe\">\n",
       "  <thead>\n",
       "    <tr style=\"text-align: right;\">\n",
       "      <th></th>\n",
       "      <th>Race/ethnicity</th>\n",
       "      <th>Year</th>\n",
       "      <th>Rate (per 1,000 Females)</th>\n",
       "      <th>Age</th>\n",
       "    </tr>\n",
       "  </thead>\n",
       "  <tbody>\n",
       "    <tr>\n",
       "      <th>15</th>\n",
       "      <td>White, non-Hispanic</td>\n",
       "      <td>2000</td>\n",
       "      <td>57.5</td>\n",
       "      <td>Ages 18-19</td>\n",
       "    </tr>\n",
       "    <tr>\n",
       "      <th>16</th>\n",
       "      <td>White, non-Hispanic</td>\n",
       "      <td>2001</td>\n",
       "      <td>54.7</td>\n",
       "      <td>Ages 18-19</td>\n",
       "    </tr>\n",
       "    <tr>\n",
       "      <th>17</th>\n",
       "      <td>White, non-Hispanic</td>\n",
       "      <td>2002</td>\n",
       "      <td>52.0</td>\n",
       "      <td>Ages 18-19</td>\n",
       "    </tr>\n",
       "    <tr>\n",
       "      <th>18</th>\n",
       "      <td>White, non-Hispanic</td>\n",
       "      <td>2003</td>\n",
       "      <td>52.0</td>\n",
       "      <td>Ages 18-19</td>\n",
       "    </tr>\n",
       "    <tr>\n",
       "      <th>19</th>\n",
       "      <td>White, non-Hispanic</td>\n",
       "      <td>2004</td>\n",
       "      <td>48.6</td>\n",
       "      <td>Ages 18-19</td>\n",
       "    </tr>\n",
       "    <tr>\n",
       "      <th>...</th>\n",
       "      <td>...</td>\n",
       "      <td>...</td>\n",
       "      <td>...</td>\n",
       "      <td>...</td>\n",
       "    </tr>\n",
       "    <tr>\n",
       "      <th>175</th>\n",
       "      <td>Asian/Pacific Islander</td>\n",
       "      <td>2010</td>\n",
       "      <td>42.6</td>\n",
       "      <td>Ages 20-24</td>\n",
       "    </tr>\n",
       "    <tr>\n",
       "      <th>176</th>\n",
       "      <td>Asian/Pacific Islander</td>\n",
       "      <td>2011</td>\n",
       "      <td>41.9</td>\n",
       "      <td>Ages 20-24</td>\n",
       "    </tr>\n",
       "    <tr>\n",
       "      <th>177</th>\n",
       "      <td>Asian/Pacific Islander</td>\n",
       "      <td>2012</td>\n",
       "      <td>41.4</td>\n",
       "      <td>Ages 20-24</td>\n",
       "    </tr>\n",
       "    <tr>\n",
       "      <th>178</th>\n",
       "      <td>Asian/Pacific Islander</td>\n",
       "      <td>2013</td>\n",
       "      <td>39.1</td>\n",
       "      <td>Ages 20-24</td>\n",
       "    </tr>\n",
       "    <tr>\n",
       "      <th>179</th>\n",
       "      <td>Asian/Pacific Islander</td>\n",
       "      <td>2014</td>\n",
       "      <td>37.5</td>\n",
       "      <td>Ages 20-24</td>\n",
       "    </tr>\n",
       "  </tbody>\n",
       "</table>\n",
       "<p>150 rows × 4 columns</p>\n",
       "</div>"
      ],
      "text/plain": [
       "             Race/ethnicity  Year  Rate (per 1,000 Females)         Age\n",
       "15      White, non-Hispanic  2000                      57.5  Ages 18-19\n",
       "16      White, non-Hispanic  2001                      54.7  Ages 18-19\n",
       "17      White, non-Hispanic  2002                      52.0  Ages 18-19\n",
       "18      White, non-Hispanic  2003                      52.0  Ages 18-19\n",
       "19      White, non-Hispanic  2004                      48.6  Ages 18-19\n",
       "..                      ...   ...                       ...         ...\n",
       "175  Asian/Pacific Islander  2010                      42.6  Ages 20-24\n",
       "176  Asian/Pacific Islander  2011                      41.9  Ages 20-24\n",
       "177  Asian/Pacific Islander  2012                      41.4  Ages 20-24\n",
       "178  Asian/Pacific Islander  2013                      39.1  Ages 20-24\n",
       "179  Asian/Pacific Islander  2014                      37.5  Ages 20-24\n",
       "\n",
       "[150 rows x 4 columns]"
      ]
     },
     "execution_count": 177,
     "metadata": {},
     "output_type": "execute_result"
    }
   ],
   "source": [
    "young_woman_births"
   ]
  },
  {
   "cell_type": "code",
   "execution_count": 176,
   "metadata": {},
   "outputs": [
    {
     "data": {
      "text/plain": [
       "array(['White, non-Hispanic', 'Black, non-Hispanic ', 'Hispanic',\n",
       "       'American Indian/Alaska Native', 'Asian/Pacific Islander',\n",
       "       'Black, non-Hispanic', 'Hispanic,Ages 20-24'], dtype=object)"
      ]
     },
     "execution_count": 176,
     "metadata": {},
     "output_type": "execute_result"
    }
   ],
   "source": [
    "young_woman_births['Race/ethnicity'].unique()\n",
    "\n",
    "## TODO: remove space from the end of Black non hispanic column(s)"
   ]
  },
  {
   "cell_type": "code",
   "execution_count": 187,
   "metadata": {},
   "outputs": [
    {
     "data": {
      "application/vnd.vegalite.v3+json": {
       "$schema": "https://vega.github.io/schema/vega-lite/v3.4.0.json",
       "config": {
        "mark": {
         "tooltip": null
        },
        "view": {
         "height": 300,
         "width": 400
        }
       },
       "data": {
        "name": "data-a85cf732932a9eb4064db5c88cbbb305"
       },
       "datasets": {
        "data-a85cf732932a9eb4064db5c88cbbb305": [
         {
          "Age": "Ages 18-19",
          "Race/ethnicity": "White, non-Hispanic",
          "Rate (per 1,000 Females)": 57.5,
          "Year": 2000
         },
         {
          "Age": "Ages 18-19",
          "Race/ethnicity": "White, non-Hispanic",
          "Rate (per 1,000 Females)": 54.7,
          "Year": 2001
         },
         {
          "Age": "Ages 18-19",
          "Race/ethnicity": "White, non-Hispanic",
          "Rate (per 1,000 Females)": 52,
          "Year": 2002
         },
         {
          "Age": "Ages 18-19",
          "Race/ethnicity": "White, non-Hispanic",
          "Rate (per 1,000 Females)": 52,
          "Year": 2003
         },
         {
          "Age": "Ages 18-19",
          "Race/ethnicity": "White, non-Hispanic",
          "Rate (per 1,000 Females)": 48.6,
          "Year": 2004
         },
         {
          "Age": "Ages 18-19",
          "Race/ethnicity": "White, non-Hispanic",
          "Rate (per 1,000 Females)": 48,
          "Year": 2005
         },
         {
          "Age": "Ages 18-19",
          "Race/ethnicity": "White, non-Hispanic",
          "Rate (per 1,000 Females)": 49.4,
          "Year": 2006
         },
         {
          "Age": "Ages 18-19",
          "Race/ethnicity": "White, non-Hispanic",
          "Rate (per 1,000 Females)": 50.4,
          "Year": 2007
         },
         {
          "Age": "Ages 18-19",
          "Race/ethnicity": "White, non-Hispanic",
          "Rate (per 1,000 Females)": 48.6,
          "Year": 2008
         },
         {
          "Age": "Ages 18-19",
          "Race/ethnicity": "White, non-Hispanic",
          "Rate (per 1,000 Females)": 46.2,
          "Year": 2009
         },
         {
          "Age": "Ages 18-19",
          "Race/ethnicity": "White, non-Hispanic",
          "Rate (per 1,000 Females)": 42.5,
          "Year": 2010
         },
         {
          "Age": "Ages 18-19",
          "Race/ethnicity": "White, non-Hispanic",
          "Rate (per 1,000 Females)": 39.9,
          "Year": 2011
         },
         {
          "Age": "Ages 18-19",
          "Race/ethnicity": "White, non-Hispanic",
          "Rate (per 1,000 Females)": 37.9,
          "Year": 2012
         },
         {
          "Age": "Ages 18-19",
          "Race/ethnicity": "White, non-Hispanic",
          "Rate (per 1,000 Females)": 35,
          "Year": 2013
         },
         {
          "Age": "Ages 18-19",
          "Race/ethnicity": "White, non-Hispanic",
          "Rate (per 1,000 Females)": 32.9,
          "Year": 2014
         },
         {
          "Age": "Ages 18-19",
          "Race/ethnicity": "Black, non-Hispanic ",
          "Rate (per 1,000 Females)": 121.9,
          "Year": 2000
         },
         {
          "Age": "Ages 18-19",
          "Race/ethnicity": "Black, non-Hispanic ",
          "Rate (per 1,000 Females)": 115.9,
          "Year": 2001
         },
         {
          "Age": "Ages 18-19",
          "Race/ethnicity": "Black, non-Hispanic ",
          "Rate (per 1,000 Females)": 109.5,
          "Year": 2002
         },
         {
          "Age": "Ages 18-19",
          "Race/ethnicity": "Black, non-Hispanic ",
          "Rate (per 1,000 Females)": 103.4,
          "Year": 2003
         },
         {
          "Age": "Ages 18-19",
          "Race/ethnicity": "Black, non-Hispanic ",
          "Rate (per 1,000 Females)": 101.6,
          "Year": 2004
         },
         {
          "Age": "Ages 18-19",
          "Race/ethnicity": "Black, non-Hispanic ",
          "Rate (per 1,000 Females)": 100.2,
          "Year": 2005
         },
         {
          "Age": "Ages 18-19",
          "Race/ethnicity": "Black, non-Hispanic ",
          "Rate (per 1,000 Females)": 105.1,
          "Year": 2006
         },
         {
          "Age": "Ages 18-19",
          "Race/ethnicity": "Black, non-Hispanic ",
          "Rate (per 1,000 Females)": 105.2,
          "Year": 2007
         },
         {
          "Age": "Ages 18-19",
          "Race/ethnicity": "Black, non-Hispanic ",
          "Rate (per 1,000 Females)": 100,
          "Year": 2008
         },
         {
          "Age": "Ages 18-19",
          "Race/ethnicity": "Black, non-Hispanic ",
          "Rate (per 1,000 Females)": 93.5,
          "Year": 2009
         },
         {
          "Age": "Ages 18-19",
          "Race/ethnicity": "Black, non-Hispanic ",
          "Rate (per 1,000 Females)": 85.6,
          "Year": 2010
         },
         {
          "Age": "Ages 18-19",
          "Race/ethnicity": "Black, non-Hispanic ",
          "Rate (per 1,000 Females)": 78.8,
          "Year": 2011
         },
         {
          "Age": "Ages 18-19",
          "Race/ethnicity": "Black, non-Hispanic ",
          "Rate (per 1,000 Females)": 74.1,
          "Year": 2012
         },
         {
          "Age": "Ages 18-19",
          "Race/ethnicity": "Black, non-Hispanic ",
          "Rate (per 1,000 Females)": 67,
          "Year": 2013
         },
         {
          "Age": "Ages 18-19",
          "Race/ethnicity": "Black, non-Hispanic ",
          "Rate (per 1,000 Females)": 61.5,
          "Year": 2014
         },
         {
          "Age": "Ages 18-19",
          "Race/ethnicity": "Hispanic",
          "Rate (per 1,000 Females)": 132.6,
          "Year": 2000
         },
         {
          "Age": "Ages 18-19",
          "Race/ethnicity": "Hispanic",
          "Rate (per 1,000 Females)": 131.3,
          "Year": 2001
         },
         {
          "Age": "Ages 18-19",
          "Race/ethnicity": "Hispanic",
          "Rate (per 1,000 Females)": 127.1,
          "Year": 2002
         },
         {
          "Age": "Ages 18-19",
          "Race/ethnicity": "Hispanic",
          "Rate (per 1,000 Females)": 124.8,
          "Year": 2003
         },
         {
          "Age": "Ages 18-19",
          "Race/ethnicity": "Hispanic",
          "Rate (per 1,000 Females)": 124.8,
          "Year": 2004
         },
         {
          "Age": "Ages 18-19",
          "Race/ethnicity": "Hispanic",
          "Rate (per 1,000 Females)": 124.4,
          "Year": 2005
         },
         {
          "Age": "Ages 18-19",
          "Race/ethnicity": "Hispanic",
          "Rate (per 1,000 Females)": 128.7,
          "Year": 2006
         },
         {
          "Age": "Ages 18-19",
          "Race/ethnicity": "Hispanic",
          "Rate (per 1,000 Females)": 124.7,
          "Year": 2007
         },
         {
          "Age": "Ages 18-19",
          "Race/ethnicity": "Hispanic",
          "Rate (per 1,000 Females)": 114,
          "Year": 2008
         },
         {
          "Age": "Ages 18-19",
          "Race/ethnicity": "Hispanic",
          "Rate (per 1,000 Females)": 103.3,
          "Year": 2009
         },
         {
          "Age": "Ages 18-19",
          "Race/ethnicity": "Hispanic",
          "Rate (per 1,000 Females)": 90.7,
          "Year": 2010
         },
         {
          "Age": "Ages 18-19",
          "Race/ethnicity": "Hispanic",
          "Rate (per 1,000 Females)": 81.5,
          "Year": 2011
         },
         {
          "Age": "Ages 18-19",
          "Race/ethnicity": "Hispanic",
          "Rate (per 1,000 Females)": 77.2,
          "Year": 2012
         },
         {
          "Age": "Ages 18-19",
          "Race/ethnicity": "Hispanic",
          "Rate (per 1,000 Females)": 70.8,
          "Year": 2013
         },
         {
          "Age": "Ages 18-19",
          "Race/ethnicity": "Hispanic",
          "Rate (per 1,000 Females)": 66.1,
          "Year": 2014
         },
         {
          "Age": "Ages 18-19",
          "Race/ethnicity": "American Indian/Alaska Native",
          "Rate (per 1,000 Females)": 97.1,
          "Year": 2000
         },
         {
          "Age": "Ages 18-19",
          "Race/ethnicity": "American Indian/Alaska Native",
          "Rate (per 1,000 Females)": 92.7,
          "Year": 2001
         },
         {
          "Age": "Ages 18-19",
          "Race/ethnicity": "American Indian/Alaska Native",
          "Rate (per 1,000 Females)": 85.3,
          "Year": 2002
         },
         {
          "Age": "Ages 18-19",
          "Race/ethnicity": "American Indian/Alaska Native",
          "Rate (per 1,000 Females)": 82.1,
          "Year": 2003
         },
         {
          "Age": "Ages 18-19",
          "Race/ethnicity": "American Indian/Alaska Native",
          "Rate (per 1,000 Females)": 79.9,
          "Year": 2004
         },
         {
          "Age": "Ages 18-19",
          "Race/ethnicity": "American Indian/Alaska Native",
          "Rate (per 1,000 Females)": 78,
          "Year": 2005
         },
         {
          "Age": "Ages 18-19",
          "Race/ethnicity": "American Indian/Alaska Native",
          "Rate (per 1,000 Females)": 80.8,
          "Year": 2006
         },
         {
          "Age": "Ages 18-19",
          "Race/ethnicity": "American Indian/Alaska Native",
          "Rate (per 1,000 Females)": 86.3,
          "Year": 2007
         },
         {
          "Age": "Ages 18-19",
          "Race/ethnicity": "American Indian/Alaska Native",
          "Rate (per 1,000 Females)": 80.2,
          "Year": 2008
         },
         {
          "Age": "Ages 18-19",
          "Race/ethnicity": "American Indian/Alaska Native",
          "Rate (per 1,000 Females)": 73.5,
          "Year": 2009
         },
         {
          "Age": "Ages 18-19",
          "Race/ethnicity": "American Indian/Alaska Native",
          "Rate (per 1,000 Females)": 66.1,
          "Year": 2010
         },
         {
          "Age": "Ages 18-19",
          "Race/ethnicity": "American Indian/Alaska Native",
          "Rate (per 1,000 Females)": 61.6,
          "Year": 2011
         },
         {
          "Age": "Ages 18-19",
          "Race/ethnicity": "American Indian/Alaska Native",
          "Rate (per 1,000 Females)": 60.5,
          "Year": 2012
         },
         {
          "Age": "Ages 18-19",
          "Race/ethnicity": "American Indian/Alaska Native",
          "Rate (per 1,000 Females)": 53.3,
          "Year": 2013
         },
         {
          "Age": "Ages 18-19",
          "Race/ethnicity": "American Indian/Alaska Native",
          "Rate (per 1,000 Females)": 48.6,
          "Year": 2014
         },
         {
          "Age": "Ages 18-19",
          "Race/ethnicity": "Asian/Pacific Islander",
          "Rate (per 1,000 Females)": 32.6,
          "Year": 2000
         },
         {
          "Age": "Ages 18-19",
          "Race/ethnicity": "Asian/Pacific Islander",
          "Rate (per 1,000 Females)": 32,
          "Year": 2001
         },
         {
          "Age": "Ages 18-19",
          "Race/ethnicity": "Asian/Pacific Islander",
          "Rate (per 1,000 Females)": 29.9,
          "Year": 2002
         },
         {
          "Age": "Ages 18-19",
          "Race/ethnicity": "Asian/Pacific Islander",
          "Rate (per 1,000 Females)": 27.3,
          "Year": 2003
         },
         {
          "Age": "Ages 18-19",
          "Race/ethnicity": "Asian/Pacific Islander",
          "Rate (per 1,000 Females)": 26.6,
          "Year": 2004
         },
         {
          "Age": "Ages 18-19",
          "Race/ethnicity": "Asian/Pacific Islander",
          "Rate (per 1,000 Females)": 26.4,
          "Year": 2005
         },
         {
          "Age": "Ages 18-19",
          "Race/ethnicity": "Asian/Pacific Islander",
          "Rate (per 1,000 Females)": 25.4,
          "Year": 2006
         },
         {
          "Age": "Ages 18-19",
          "Race/ethnicity": "Asian/Pacific Islander",
          "Rate (per 1,000 Females)": 24.9,
          "Year": 2007
         },
         {
          "Age": "Ages 18-19",
          "Race/ethnicity": "Asian/Pacific Islander",
          "Rate (per 1,000 Females)": 23,
          "Year": 2008
         },
         {
          "Age": "Ages 18-19",
          "Race/ethnicity": "Asian/Pacific Islander",
          "Rate (per 1,000 Females)": 20.9,
          "Year": 2009
         },
         {
          "Age": "Ages 18-19",
          "Race/ethnicity": "Asian/Pacific Islander",
          "Rate (per 1,000 Females)": 18.7,
          "Year": 2010
         },
         {
          "Age": "Ages 18-19",
          "Race/ethnicity": "Asian/Pacific Islander",
          "Rate (per 1,000 Females)": 18.1,
          "Year": 2011
         },
         {
          "Age": "Ages 18-19",
          "Race/ethnicity": "Asian/Pacific Islander",
          "Rate (per 1,000 Females)": 17.7,
          "Year": 2012
         },
         {
          "Age": "Ages 18-19",
          "Race/ethnicity": "Asian/Pacific Islander",
          "Rate (per 1,000 Females)": 16.1,
          "Year": 2013
         },
         {
          "Age": "Ages 18-19",
          "Race/ethnicity": "Asian/Pacific Islander",
          "Rate (per 1,000 Females)": 13.9,
          "Year": 2014
         },
         {
          "Age": "Ages 20-24",
          "Race/ethnicity": "White, non-Hispanic",
          "Rate (per 1,000 Females)": 91.2,
          "Year": 2000
         },
         {
          "Age": "Ages 20-24",
          "Race/ethnicity": "White, non-Hispanic",
          "Rate (per 1,000 Females)": 87,
          "Year": 2001
         },
         {
          "Age": "Ages 20-24",
          "Race/ethnicity": "White, non-Hispanic",
          "Rate (per 1,000 Females)": 84.7,
          "Year": 2002
         },
         {
          "Age": "Ages 20-24",
          "Race/ethnicity": "White, non-Hispanic",
          "Rate (per 1,000 Females)": 84.1,
          "Year": 2003
         },
         {
          "Age": "Ages 20-24",
          "Race/ethnicity": "White, non-Hispanic",
          "Rate (per 1,000 Females)": 83,
          "Year": 2004
         },
         {
          "Age": "Ages 20-24",
          "Race/ethnicity": "White, non-Hispanic",
          "Rate (per 1,000 Females)": 82.7,
          "Year": 2005
         },
         {
          "Age": "Ages 20-24",
          "Race/ethnicity": "White, non-Hispanic",
          "Rate (per 1,000 Females)": 85.1,
          "Year": 2006
         },
         {
          "Age": "Ages 20-24",
          "Race/ethnicity": "White, non-Hispanic",
          "Rate (per 1,000 Females)": 85.1,
          "Year": 2007
         },
         {
          "Age": "Ages 20-24",
          "Race/ethnicity": "White, non-Hispanic",
          "Rate (per 1,000 Females)": 82.8,
          "Year": 2008
         },
         {
          "Age": "Ages 20-24",
          "Race/ethnicity": "White, non-Hispanic",
          "Rate (per 1,000 Females)": 79.2,
          "Year": 2009
         },
         {
          "Age": "Ages 20-24",
          "Race/ethnicity": "White, non-Hispanic",
          "Rate (per 1,000 Females)": 74.9,
          "Year": 2010
         },
         {
          "Age": "Ages 20-24",
          "Race/ethnicity": "White, non-Hispanic",
          "Rate (per 1,000 Females)": 71.8,
          "Year": 2011
         },
         {
          "Age": "Ages 20-24",
          "Race/ethnicity": "White, non-Hispanic",
          "Rate (per 1,000 Females)": 70.2,
          "Year": 2012
         },
         {
          "Age": "Ages 20-24",
          "Race/ethnicity": "White, non-Hispanic",
          "Rate (per 1,000 Females)": 68.3,
          "Year": 2013
         },
         {
          "Age": "Ages 20-24",
          "Race/ethnicity": "White, non-Hispanic",
          "Rate (per 1,000 Females)": 67.1,
          "Year": 2014
         },
         {
          "Age": "Ages 20-24",
          "Race/ethnicity": "Black, non-Hispanic",
          "Rate (per 1,000 Females)": 145.4,
          "Year": 2000
         },
         {
          "Age": "Ages 20-24",
          "Race/ethnicity": "Black, non-Hispanic",
          "Rate (per 1,000 Females)": 137.3,
          "Year": 2001
         },
         {
          "Age": "Ages 20-24",
          "Race/ethnicity": "Black, non-Hispanic",
          "Rate (per 1,000 Females)": 131.4,
          "Year": 2002
         },
         {
          "Age": "Ages 20-24",
          "Race/ethnicity": "Black, non-Hispanic",
          "Rate (per 1,000 Females)": 128.8,
          "Year": 2003
         },
         {
          "Age": "Ages 20-24",
          "Race/ethnicity": "Black, non-Hispanic",
          "Rate (per 1,000 Females)": 127.9,
          "Year": 2004
         },
         {
          "Age": "Ages 20-24",
          "Race/ethnicity": "Black, non-Hispanic",
          "Rate (per 1,000 Females)": 127.9,
          "Year": 2005
         },
         {
          "Age": "Ages 20-24",
          "Race/ethnicity": "Black, non-Hispanic",
          "Rate (per 1,000 Females)": 134.4,
          "Year": 2006
         },
         {
          "Age": "Ages 20-24",
          "Race/ethnicity": "Black, non-Hispanic",
          "Rate (per 1,000 Females)": 134.5,
          "Year": 2007
         },
         {
          "Age": "Ages 20-24",
          "Race/ethnicity": "Black, non-Hispanic",
          "Rate (per 1,000 Females)": 131.6,
          "Year": 2008
         },
         {
          "Age": "Ages 20-24",
          "Race/ethnicity": "Black, non-Hispanic",
          "Rate (per 1,000 Females)": 125.9,
          "Year": 2009
         },
         {
          "Age": "Ages 20-24",
          "Race/ethnicity": "Black, non-Hispanic",
          "Rate (per 1,000 Females)": 119.4,
          "Year": 2010
         },
         {
          "Age": "Ages 20-24",
          "Race/ethnicity": "Black, non-Hispanic",
          "Rate (per 1,000 Females)": 112.3,
          "Year": 2011
         },
         {
          "Age": "Ages 20-24",
          "Race/ethnicity": "Black, non-Hispanic",
          "Rate (per 1,000 Females)": 109,
          "Year": 2012
         },
         {
          "Age": "Ages 20-24",
          "Race/ethnicity": "Black, non-Hispanic",
          "Rate (per 1,000 Females)": 105.6,
          "Year": 2013
         },
         {
          "Age": "Ages 20-24",
          "Race/ethnicity": "Black, non-Hispanic",
          "Rate (per 1,000 Females)": 102.8,
          "Year": 2014
         },
         {
          "Age": "Ages 20-24",
          "Race/ethnicity": "Hispanic,Ages 20-24",
          "Rate (per 1,000 Females)": 161.3,
          "Year": 2000
         },
         {
          "Age": "Ages 20-24",
          "Race/ethnicity": "Hispanic,Ages 20-24",
          "Rate (per 1,000 Females)": 160.5,
          "Year": 2001
         },
         {
          "Age": "Ages 20-24",
          "Race/ethnicity": "Hispanic,Ages 20-24",
          "Rate (per 1,000 Females)": 159,
          "Year": 2002
         },
         {
          "Age": "Ages 20-24",
          "Race/ethnicity": "Hispanic,Ages 20-24",
          "Rate (per 1,000 Females)": 159.1,
          "Year": 2003
         },
         {
          "Age": "Ages 20-24",
          "Race/ethnicity": "Hispanic,Ages 20-24",
          "Rate (per 1,000 Females)": 159.2,
          "Year": 2004
         },
         {
          "Age": "Ages 20-24",
          "Race/ethnicity": "Hispanic,Ages 20-24",
          "Rate (per 1,000 Females)": 161.1,
          "Year": 2005
         },
         {
          "Age": "Ages 20-24",
          "Race/ethnicity": "Hispanic,Ages 20-24",
          "Rate (per 1,000 Females)": 166.7,
          "Year": 2006
         },
         {
          "Age": "Ages 20-24",
          "Race/ethnicity": "Hispanic,Ages 20-24",
          "Rate (per 1,000 Females)": 164.6,
          "Year": 2007
         },
         {
          "Age": "Ages 20-24",
          "Race/ethnicity": "Hispanic,Ages 20-24",
          "Rate (per 1,000 Females)": 154.1,
          "Year": 2008
         },
         {
          "Age": "Ages 20-24",
          "Race/ethnicity": "Hispanic,Ages 20-24",
          "Rate (per 1,000 Females)": 140.1,
          "Year": 2009
         },
         {
          "Age": "Ages 20-24",
          "Race/ethnicity": "Hispanic,Ages 20-24",
          "Rate (per 1,000 Females)": 126.1,
          "Year": 2010
         },
         {
          "Age": "Ages 20-24",
          "Race/ethnicity": "Hispanic,Ages 20-24",
          "Rate (per 1,000 Females)": 116,
          "Year": 2011
         },
         {
          "Age": "Ages 20-24",
          "Race/ethnicity": "Hispanic,Ages 20-24",
          "Rate (per 1,000 Females)": 111.5,
          "Year": 2012
         },
         {
          "Age": "Ages 20-24",
          "Race/ethnicity": "Hispanic,Ages 20-24",
          "Rate (per 1,000 Females)": 107.2,
          "Year": 2013
         },
         {
          "Age": "Ages 20-24",
          "Race/ethnicity": "Hispanic,Ages 20-24",
          "Rate (per 1,000 Females)": 104.5,
          "Year": 2014
         },
         {
          "Age": "Ages 20-24",
          "Race/ethnicity": "American Indian/Alaska Native",
          "Rate (per 1,000 Females)": 117.2,
          "Year": 2000
         },
         {
          "Age": "Ages 20-24",
          "Race/ethnicity": "American Indian/Alaska Native",
          "Rate (per 1,000 Females)": 113.8,
          "Year": 2001
         },
         {
          "Age": "Ages 20-24",
          "Race/ethnicity": "American Indian/Alaska Native",
          "Rate (per 1,000 Females)": 110.7,
          "Year": 2002
         },
         {
          "Age": "Ages 20-24",
          "Race/ethnicity": "American Indian/Alaska Native",
          "Rate (per 1,000 Females)": 107,
          "Year": 2003
         },
         {
          "Age": "Ages 20-24",
          "Race/ethnicity": "American Indian/Alaska Native",
          "Rate (per 1,000 Females)": 105.4,
          "Year": 2004
         },
         {
          "Age": "Ages 20-24",
          "Race/ethnicity": "American Indian/Alaska Native",
          "Rate (per 1,000 Females)": 102.9,
          "Year": 2005
         },
         {
          "Age": "Ages 20-24",
          "Race/ethnicity": "American Indian/Alaska Native",
          "Rate (per 1,000 Females)": 106.8,
          "Year": 2006
         },
         {
          "Age": "Ages 20-24",
          "Race/ethnicity": "American Indian/Alaska Native",
          "Rate (per 1,000 Females)": 105.8,
          "Year": 2007
         },
         {
          "Age": "Ages 20-24",
          "Race/ethnicity": "American Indian/Alaska Native",
          "Rate (per 1,000 Females)": 102.7,
          "Year": 2008
         },
         {
          "Age": "Ages 20-24",
          "Race/ethnicity": "American Indian/Alaska Native",
          "Rate (per 1,000 Females)": 96.3,
          "Year": 2009
         },
         {
          "Age": "Ages 20-24",
          "Race/ethnicity": "American Indian/Alaska Native",
          "Rate (per 1,000 Females)": 91,
          "Year": 2010
         },
         {
          "Age": "Ages 20-24",
          "Race/ethnicity": "American Indian/Alaska Native",
          "Rate (per 1,000 Females)": 86.6,
          "Year": 2011
         },
         {
          "Age": "Ages 20-24",
          "Race/ethnicity": "American Indian/Alaska Native",
          "Rate (per 1,000 Females)": 81.7,
          "Year": 2012
         },
         {
          "Age": "Ages 20-24",
          "Race/ethnicity": "American Indian/Alaska Native",
          "Rate (per 1,000 Females)": 78.9,
          "Year": 2013
         },
         {
          "Age": "Ages 20-24",
          "Race/ethnicity": "American Indian/Alaska Native",
          "Rate (per 1,000 Females)": 73.2,
          "Year": 2014
         },
         {
          "Age": "Ages 20-24",
          "Race/ethnicity": "Asian/Pacific Islander",
          "Rate (per 1,000 Females)": 60.3,
          "Year": 2000
         },
         {
          "Age": "Ages 20-24",
          "Race/ethnicity": "Asian/Pacific Islander",
          "Rate (per 1,000 Females)": 56,
          "Year": 2001
         },
         {
          "Age": "Ages 20-24",
          "Race/ethnicity": "Asian/Pacific Islander",
          "Rate (per 1,000 Females)": 55.5,
          "Year": 2002
         },
         {
          "Age": "Ages 20-24",
          "Race/ethnicity": "Asian/Pacific Islander",
          "Rate (per 1,000 Females)": 54.3,
          "Year": 2003
         },
         {
          "Age": "Ages 20-24",
          "Race/ethnicity": "Asian/Pacific Islander",
          "Rate (per 1,000 Females)": 53.3,
          "Year": 2004
         },
         {
          "Age": "Ages 20-24",
          "Race/ethnicity": "Asian/Pacific Islander",
          "Rate (per 1,000 Females)": 52.9,
          "Year": 2005
         },
         {
          "Age": "Ages 20-24",
          "Race/ethnicity": "Asian/Pacific Islander",
          "Rate (per 1,000 Females)": 53.8,
          "Year": 2006
         },
         {
          "Age": "Ages 20-24",
          "Race/ethnicity": "Asian/Pacific Islander",
          "Rate (per 1,000 Females)": 53.2,
          "Year": 2007
         },
         {
          "Age": "Ages 20-24",
          "Race/ethnicity": "Asian/Pacific Islander",
          "Rate (per 1,000 Females)": 50.4,
          "Year": 2008
         },
         {
          "Age": "Ages 20-24",
          "Race/ethnicity": "Asian/Pacific Islander",
          "Rate (per 1,000 Females)": 46.4,
          "Year": 2009
         },
         {
          "Age": "Ages 20-24",
          "Race/ethnicity": "Asian/Pacific Islander",
          "Rate (per 1,000 Females)": 42.6,
          "Year": 2010
         },
         {
          "Age": "Ages 20-24",
          "Race/ethnicity": "Asian/Pacific Islander",
          "Rate (per 1,000 Females)": 41.9,
          "Year": 2011
         },
         {
          "Age": "Ages 20-24",
          "Race/ethnicity": "Asian/Pacific Islander",
          "Rate (per 1,000 Females)": 41.4,
          "Year": 2012
         },
         {
          "Age": "Ages 20-24",
          "Race/ethnicity": "Asian/Pacific Islander",
          "Rate (per 1,000 Females)": 39.1,
          "Year": 2013
         },
         {
          "Age": "Ages 20-24",
          "Race/ethnicity": "Asian/Pacific Islander",
          "Rate (per 1,000 Females)": 37.5,
          "Year": 2014
         }
        ]
       },
       "encoding": {
        "color": {
         "field": "Race/ethnicity",
         "type": "nominal"
        },
        "x": {
         "field": "Year",
         "type": "ordinal"
        },
        "y": {
         "field": "Rate (per 1,000 Females)",
         "type": "quantitative"
        }
       },
       "mark": {
        "size": 15,
        "type": "point"
       }
      },
      "image/png": "[encoded data removed]",
      "text/plain": [
       "<VegaLite 3 object>\n",
       "\n",
       "If you see this message, it means the renderer has not been properly enabled\n",
       "for the frontend that you are using. For more information, see\n",
       "https://altair-viz.github.io/user_guide/troubleshooting.html\n"
      ]
     },
     "execution_count": 187,
     "metadata": {},
     "output_type": "execute_result"
    }
   ],
   "source": [
    "alt.Chart(young_woman_births).mark_point(size=15).encode(\n",
    "    x = alt.X(\"Year:O\"),\n",
    "    y = alt.Y(\"Rate (per 1,000 Females):Q\"),\n",
    "    color = alt.Color(\"Race/ethnicity:N\"))"
   ]
  },
  {
   "cell_type": "code",
   "execution_count": 188,
   "metadata": {},
   "outputs": [],
   "source": [
    "## Use pivot table to pivot `young_woman_births` so each age is a column\n",
    "\n",
    "young_woman_births_pivoted = young_woman_births.pivot_table(index = [\"Race/ethnicity\",\n",
    "                                        \"Year\"],\n",
    "                               columns = \"Age\", \n",
    "                               values=\"Rate (per 1,000 Females)\").reset_index()"
   ]
  },
  {
   "cell_type": "code",
   "execution_count": 189,
   "metadata": {},
   "outputs": [
    {
     "ename": "NameError",
     "evalue": "name 'adolesent_births' is not defined",
     "output_type": "error",
     "traceback": [
      "\u001b[0;31m---------------------------------------------------------------------------\u001b[0m",
      "\u001b[0;31mNameError\u001b[0m                                 Traceback (most recent call last)",
      "\u001b[0;32m<ipython-input-189-e245275e1106>\u001b[0m in \u001b[0;36m<module>\u001b[0;34m\u001b[0m\n\u001b[0;32m----> 1\u001b[0;31m \u001b[0madolesent_births\u001b[0m\u001b[0;34m.\u001b[0m\u001b[0mmerge\u001b[0m\u001b[0;34m(\u001b[0m\u001b[0myoung_woman_births_pivoted\u001b[0m\u001b[0;34m,\u001b[0m \u001b[0mon\u001b[0m \u001b[0;34m=\u001b[0m \u001b[0;34m[\u001b[0m\u001b[0;34m'Race/ethnicity'\u001b[0m\u001b[0;34m,\u001b[0m \u001b[0;34m'Year'\u001b[0m\u001b[0;34m]\u001b[0m\u001b[0;34m,\u001b[0m \u001b[0mhow\u001b[0m\u001b[0;34m=\u001b[0m\u001b[0;34m'inner'\u001b[0m\u001b[0;34m)\u001b[0m\u001b[0;34m\u001b[0m\u001b[0;34m\u001b[0m\u001b[0m\n\u001b[0m",
      "\u001b[0;31mNameError\u001b[0m: name 'adolesent_births' is not defined"
     ]
    }
   ],
   "source": [
    "adolesent_births.merge(young_woman_births_pivoted, on = ['Race/ethnicity', 'Year'], how='inner')"
   ]
  },
  {
   "cell_type": "code",
   "execution_count": 190,
   "metadata": {},
   "outputs": [
    {
     "data": {
      "text/html": [
       "<div>\n",
       "<style scoped>\n",
       "    .dataframe tbody tr th:only-of-type {\n",
       "        vertical-align: middle;\n",
       "    }\n",
       "\n",
       "    .dataframe tbody tr th {\n",
       "        vertical-align: top;\n",
       "    }\n",
       "\n",
       "    .dataframe thead th {\n",
       "        text-align: right;\n",
       "    }\n",
       "</style>\n",
       "<table border=\"1\" class=\"dataframe\">\n",
       "  <thead>\n",
       "    <tr style=\"text-align: right;\">\n",
       "      <th>Age</th>\n",
       "      <th>Race/ethnicity</th>\n",
       "      <th>Year</th>\n",
       "      <th>Ages 18-19</th>\n",
       "      <th>Ages 20-24</th>\n",
       "    </tr>\n",
       "  </thead>\n",
       "  <tbody>\n",
       "    <tr>\n",
       "      <th>0</th>\n",
       "      <td>American Indian/Alaska Native</td>\n",
       "      <td>2000</td>\n",
       "      <td>97.1</td>\n",
       "      <td>117.2</td>\n",
       "    </tr>\n",
       "    <tr>\n",
       "      <th>1</th>\n",
       "      <td>American Indian/Alaska Native</td>\n",
       "      <td>2001</td>\n",
       "      <td>92.7</td>\n",
       "      <td>113.8</td>\n",
       "    </tr>\n",
       "    <tr>\n",
       "      <th>2</th>\n",
       "      <td>American Indian/Alaska Native</td>\n",
       "      <td>2002</td>\n",
       "      <td>85.3</td>\n",
       "      <td>110.7</td>\n",
       "    </tr>\n",
       "    <tr>\n",
       "      <th>3</th>\n",
       "      <td>American Indian/Alaska Native</td>\n",
       "      <td>2003</td>\n",
       "      <td>82.1</td>\n",
       "      <td>107.0</td>\n",
       "    </tr>\n",
       "    <tr>\n",
       "      <th>4</th>\n",
       "      <td>American Indian/Alaska Native</td>\n",
       "      <td>2004</td>\n",
       "      <td>79.9</td>\n",
       "      <td>105.4</td>\n",
       "    </tr>\n",
       "    <tr>\n",
       "      <th>...</th>\n",
       "      <td>...</td>\n",
       "      <td>...</td>\n",
       "      <td>...</td>\n",
       "      <td>...</td>\n",
       "    </tr>\n",
       "    <tr>\n",
       "      <th>100</th>\n",
       "      <td>White, non-Hispanic</td>\n",
       "      <td>2010</td>\n",
       "      <td>42.5</td>\n",
       "      <td>74.9</td>\n",
       "    </tr>\n",
       "    <tr>\n",
       "      <th>101</th>\n",
       "      <td>White, non-Hispanic</td>\n",
       "      <td>2011</td>\n",
       "      <td>39.9</td>\n",
       "      <td>71.8</td>\n",
       "    </tr>\n",
       "    <tr>\n",
       "      <th>102</th>\n",
       "      <td>White, non-Hispanic</td>\n",
       "      <td>2012</td>\n",
       "      <td>37.9</td>\n",
       "      <td>70.2</td>\n",
       "    </tr>\n",
       "    <tr>\n",
       "      <th>103</th>\n",
       "      <td>White, non-Hispanic</td>\n",
       "      <td>2013</td>\n",
       "      <td>35.0</td>\n",
       "      <td>68.3</td>\n",
       "    </tr>\n",
       "    <tr>\n",
       "      <th>104</th>\n",
       "      <td>White, non-Hispanic</td>\n",
       "      <td>2014</td>\n",
       "      <td>32.9</td>\n",
       "      <td>67.1</td>\n",
       "    </tr>\n",
       "  </tbody>\n",
       "</table>\n",
       "<p>105 rows × 4 columns</p>\n",
       "</div>"
      ],
      "text/plain": [
       "Age                 Race/ethnicity  Year  Ages 18-19  Ages 20-24\n",
       "0    American Indian/Alaska Native  2000        97.1       117.2\n",
       "1    American Indian/Alaska Native  2001        92.7       113.8\n",
       "2    American Indian/Alaska Native  2002        85.3       110.7\n",
       "3    American Indian/Alaska Native  2003        82.1       107.0\n",
       "4    American Indian/Alaska Native  2004        79.9       105.4\n",
       "..                             ...   ...         ...         ...\n",
       "100            White, non-Hispanic  2010        42.5        74.9\n",
       "101            White, non-Hispanic  2011        39.9        71.8\n",
       "102            White, non-Hispanic  2012        37.9        70.2\n",
       "103            White, non-Hispanic  2013        35.0        68.3\n",
       "104            White, non-Hispanic  2014        32.9        67.1\n",
       "\n",
       "[105 rows x 4 columns]"
      ]
     },
     "execution_count": 190,
     "metadata": {},
     "output_type": "execute_result"
    }
   ],
   "source": [
    "young_woman_births_pivoted"
   ]
  },
  {
   "cell_type": "code",
   "execution_count": null,
   "metadata": {},
   "outputs": [],
   "source": []
  }
 ],
 "metadata": {
  "kernelspec": {
   "display_name": "Python 3",
   "language": "python",
   "name": "python3"
  },
  "language_info": {
   "codemirror_mode": {
    "name": "ipython",
    "version": 3
   },
   "file_extension": ".py",
   "mimetype": "text/x-python",
   "name": "python",
   "nbconvert_exporter": "python",
   "pygments_lexer": "ipython3",
   "version": "3.7.4"
  }
 },
 "nbformat": 4,
 "nbformat_minor": 4
}
