{
 "cells": [
  {
   "cell_type": "code",
   "execution_count": 1,
   "metadata": {},
   "outputs": [],
   "source": [
    "import pandas as pd\n",
    "import altair as alt"
   ]
  },
  {
   "cell_type": "code",
   "execution_count": 2,
   "metadata": {},
   "outputs": [],
   "source": [
    "files = [\"adolescent-births-2016\", \n",
    "\"birth-rates-for-young-adult-women-2016\",\n",
    "\"child-housing-problems-2016\",\n",
    "\"child-living-arrangements-2016\",\n",
    "\"child-maltreatment-2016\",\n",
    "\"child-poverty-percent-2016\",\n",
    "\"exposure-to-violence-among-children-2016\",\n",
    "\"naep04-reading-2016\",\n",
    "\"young-adult-living-arrangements-2016\"]\n",
    "\n",
    "CSVs = []\n",
    "\n",
    "for file in files:\n",
    "    string_name = file + \".csv\"\n",
    "    csv = pd.read_csv(string_name, encoding = 'cp437')\n",
    "    csv = csv.replace('û', '-', regex=True)  # Some CSVs have encoding issue where '-' is encoded as 'û'\n",
    "    csv[\"Notes\"] = 0   # Add 'Notes' column if it does not exist\n",
    "    csv[\"Note\"] = 0 # Add 'Note' column if it does not exist\n",
    "    csv = csv.drop(columns = [\"Notes\", \"Note\"])  # Drop Notes column\n",
    "    #csv = csv.dropna()   # Drop rows with NAs\n",
    "    CSVs.append(csv)"
   ]
  },
  {
   "cell_type": "code",
   "execution_count": 3,
   "metadata": {},
   "outputs": [],
   "source": [
    "adolesent_births = CSVs[0].rename(columns={\"Percentage\":\"Rate (per 1,000 Females)\"}\n",
    "              ).drop(columns = [\"Characteristic\", \"Standard Error on Percentage\"]\n",
    "                    ).dropna()\n",
    "\n",
    "young_woman_births = CSVs[1].drop(columns=\"Characteristic\").dropna()\n",
    "young_woman_births = young_woman_births[['Race/ethnicity', 'Year', 'Rate (per 1,000 Females)', 'Age']]\n",
    "\n",
    "child_housing_problems = CSVs[2]\n",
    "\n",
    "child_living_arrangements = CSVs[3].drop(columns=\"Characteristic\").dropna()\n",
    "\n",
    "child_maltreatment = CSVs[4].drop(columns = [\"Characteristic\", \"Race/ethnicity\"]).dropna()\n",
    "\n",
    "child_poverty_percent = CSVs[5].drop(columns=[\"Characteristic\", \"Note on Percent\"]).dropna()\n",
    "\n",
    "exposure_to_violent_crime = CSVs[6].drop(columns=[\"Characteristic\", \"Note on Percent\", \"Note on Count\"]).dropna()\n",
    "\n",
    "reading_scores = CSVs[7].drop(columns=\"Characteristic\").dropna()\n",
    "\n",
    "young_adult_living_arrangements = CSVs[8].drop(columns=\"Characteristic\").dropna()"
   ]
  },
  {
   "cell_type": "code",
   "execution_count": 4,
   "metadata": {},
   "outputs": [],
   "source": [
    "# Add column to be consistent with 'young_woman_births' df\n",
    "adolesent_births[\"Age\"] = \"Ages 15-17\"\n",
    "#adolesent_births"
   ]
  },
  {
   "cell_type": "code",
   "execution_count": 5,
   "metadata": {},
   "outputs": [],
   "source": [
    "# Change \"Year type to int\n",
    "young_woman_births[\"Year\"] = young_woman_births[\"Year\"].astype(\"int64\")"
   ]
  },
  {
   "cell_type": "code",
   "execution_count": 6,
   "metadata": {},
   "outputs": [],
   "source": [
    "test = \"Total - Hispanic, With severe housing problems\""
   ]
  },
  {
   "cell_type": "code",
   "execution_count": 7,
   "metadata": {},
   "outputs": [
    {
     "data": {
      "text/plain": [
       "['Total - Hispanic', ' With severe housing problems']"
      ]
     },
     "execution_count": 7,
     "metadata": {},
     "output_type": "execute_result"
    }
   ],
   "source": [
    "test.split(sep = \",\")"
   ]
  },
  {
   "cell_type": "code",
   "execution_count": 8,
   "metadata": {},
   "outputs": [],
   "source": [
    "child_housing_problems[\"Characteristic\"] = child_housing_problems[\"Characteristic\"].str.replace(\"Total - \", \"\")\n",
    "#child_housing_problems"
   ]
  },
  {
   "cell_type": "code",
   "execution_count": 9,
   "metadata": {},
   "outputs": [],
   "source": [
    "# Split the character column by racial category and housing variable\n",
    "child_housing_problems[\"Characteristic\"].str.rsplit(\", \", expand=True, n=1)\n",
    "\n",
    "# Set the housing variable as a column in the df\n",
    "child_housing_problems[\"housing_situation\"] = child_housing_problems[\"Characteristic\"].str.rsplit(\", \", expand=True, n=1)[1]\n",
    "\n",
    "# Set the characteristic column to be consistent with the other dataframes\n",
    "child_housing_problems[\"characteristic\"] = child_housing_problems[\"Characteristic\"].str.rsplit(\", \", expand=True, n=1)[0]\n",
    "\n",
    "# Drop the old Characteristic column\n",
    "child_housing_problems = child_housing_problems.drop(columns = [\"Characteristic\"])\n",
    "\n",
    "# child_housing_problems"
   ]
  },
  {
   "cell_type": "code",
   "execution_count": 10,
   "metadata": {},
   "outputs": [],
   "source": [
    "# TODO\n",
    "# How to aggregate this data so it's useful \n",
    "# child_maltreatment"
   ]
  },
  {
   "cell_type": "code",
   "execution_count": 11,
   "metadata": {},
   "outputs": [],
   "source": [
    "pd.set_option('display.max_rows', 100)\n",
    "child_poverty_percent['percent_living_in_poverty'] = child_poverty_percent['Percentage']\n",
    "child_poverty_percent = child_poverty_percent.drop(columns = \"Percentage\")\n"
   ]
  },
  {
   "cell_type": "code",
   "execution_count": 12,
   "metadata": {},
   "outputs": [],
   "source": [
    "# Change column name\n",
    "exposure_to_violent_crime['percent_exposed_to_violent_crime'] = exposure_to_violent_crime['Percentage']\n",
    "exposure_to_violent_crime = exposure_to_violent_crime.drop(columns = 'Percentage')\n",
    "\n",
    "# Change column name\n",
    "exposure_to_violent_crime['count_exposed_to_violent_crime'] = exposure_to_violent_crime['Count']\n",
    "exposure_to_violent_crime = exposure_to_violent_crime.drop(columns = 'Count')"
   ]
  },
  {
   "cell_type": "code",
   "execution_count": 13,
   "metadata": {},
   "outputs": [],
   "source": [
    "reading_scores['4th_grade_reading_scale_scores'] = reading_scores['Score']\n",
    "reading_scores = reading_scores.drop(columns = 'Score')"
   ]
  },
  {
   "cell_type": "code",
   "execution_count": 14,
   "metadata": {},
   "outputs": [],
   "source": [
    "# No changes\n",
    "# young_adult_living_arrangements\n"
   ]
  },
  {
   "cell_type": "code",
   "execution_count": 15,
   "metadata": {},
   "outputs": [
    {
     "data": {
      "text/plain": [
       "Race/ethnicity               object\n",
       "Year                          int64\n",
       "Rate (per 1,000 Females)    float64\n",
       "Age                          object\n",
       "dtype: object"
      ]
     },
     "execution_count": 15,
     "metadata": {},
     "output_type": "execute_result"
    }
   ],
   "source": [
    "adolesent_births.dtypes"
   ]
  },
  {
   "cell_type": "code",
   "execution_count": 16,
   "metadata": {},
   "outputs": [
    {
     "data": {
      "text/html": [
       "<div>\n",
       "<style scoped>\n",
       "    .dataframe tbody tr th:only-of-type {\n",
       "        vertical-align: middle;\n",
       "    }\n",
       "\n",
       "    .dataframe tbody tr th {\n",
       "        vertical-align: top;\n",
       "    }\n",
       "\n",
       "    .dataframe thead th {\n",
       "        text-align: right;\n",
       "    }\n",
       "</style>\n",
       "<table border=\"1\" class=\"dataframe\">\n",
       "  <thead>\n",
       "    <tr style=\"text-align: right;\">\n",
       "      <th></th>\n",
       "      <th></th>\n",
       "      <th>Year</th>\n",
       "      <th>Race/ethnicity</th>\n",
       "      <th>Rate (per 1,000 Females)</th>\n",
       "    </tr>\n",
       "    <tr>\n",
       "      <th></th>\n",
       "      <th>Age</th>\n",
       "      <th></th>\n",
       "      <th></th>\n",
       "      <th></th>\n",
       "    </tr>\n",
       "  </thead>\n",
       "  <tbody>\n",
       "    <tr>\n",
       "      <th>15</th>\n",
       "      <th>Ages 18-19</th>\n",
       "      <td>2000</td>\n",
       "      <td>White, non-Hispanic</td>\n",
       "      <td>57.5</td>\n",
       "    </tr>\n",
       "    <tr>\n",
       "      <th>16</th>\n",
       "      <th>Ages 18-19</th>\n",
       "      <td>2001</td>\n",
       "      <td>White, non-Hispanic</td>\n",
       "      <td>54.7</td>\n",
       "    </tr>\n",
       "    <tr>\n",
       "      <th>17</th>\n",
       "      <th>Ages 18-19</th>\n",
       "      <td>2002</td>\n",
       "      <td>White, non-Hispanic</td>\n",
       "      <td>52</td>\n",
       "    </tr>\n",
       "    <tr>\n",
       "      <th>18</th>\n",
       "      <th>Ages 18-19</th>\n",
       "      <td>2003</td>\n",
       "      <td>White, non-Hispanic</td>\n",
       "      <td>52</td>\n",
       "    </tr>\n",
       "    <tr>\n",
       "      <th>19</th>\n",
       "      <th>Ages 18-19</th>\n",
       "      <td>2004</td>\n",
       "      <td>White, non-Hispanic</td>\n",
       "      <td>48.6</td>\n",
       "    </tr>\n",
       "    <tr>\n",
       "      <th>...</th>\n",
       "      <th>...</th>\n",
       "      <td>...</td>\n",
       "      <td>...</td>\n",
       "      <td>...</td>\n",
       "    </tr>\n",
       "    <tr>\n",
       "      <th>175</th>\n",
       "      <th>Ages 20-24</th>\n",
       "      <td>2010</td>\n",
       "      <td>Asian/Pacific Islander</td>\n",
       "      <td>42.6</td>\n",
       "    </tr>\n",
       "    <tr>\n",
       "      <th>176</th>\n",
       "      <th>Ages 20-24</th>\n",
       "      <td>2011</td>\n",
       "      <td>Asian/Pacific Islander</td>\n",
       "      <td>41.9</td>\n",
       "    </tr>\n",
       "    <tr>\n",
       "      <th>177</th>\n",
       "      <th>Ages 20-24</th>\n",
       "      <td>2012</td>\n",
       "      <td>Asian/Pacific Islander</td>\n",
       "      <td>41.4</td>\n",
       "    </tr>\n",
       "    <tr>\n",
       "      <th>178</th>\n",
       "      <th>Ages 20-24</th>\n",
       "      <td>2013</td>\n",
       "      <td>Asian/Pacific Islander</td>\n",
       "      <td>39.1</td>\n",
       "    </tr>\n",
       "    <tr>\n",
       "      <th>179</th>\n",
       "      <th>Ages 20-24</th>\n",
       "      <td>2014</td>\n",
       "      <td>Asian/Pacific Islander</td>\n",
       "      <td>37.5</td>\n",
       "    </tr>\n",
       "  </tbody>\n",
       "</table>\n",
       "<p>150 rows × 3 columns</p>\n",
       "</div>"
      ],
      "text/plain": [
       "                Year          Race/ethnicity Rate (per 1,000 Females)\n",
       "    Age                                                              \n",
       "15  Ages 18-19  2000     White, non-Hispanic                     57.5\n",
       "16  Ages 18-19  2001     White, non-Hispanic                     54.7\n",
       "17  Ages 18-19  2002     White, non-Hispanic                       52\n",
       "18  Ages 18-19  2003     White, non-Hispanic                       52\n",
       "19  Ages 18-19  2004     White, non-Hispanic                     48.6\n",
       "...              ...                     ...                      ...\n",
       "175 Ages 20-24  2010  Asian/Pacific Islander                     42.6\n",
       "176 Ages 20-24  2011  Asian/Pacific Islander                     41.9\n",
       "177 Ages 20-24  2012  Asian/Pacific Islander                     41.4\n",
       "178 Ages 20-24  2013  Asian/Pacific Islander                     39.1\n",
       "179 Ages 20-24  2014  Asian/Pacific Islander                     37.5\n",
       "\n",
       "[150 rows x 3 columns]"
      ]
     },
     "execution_count": 16,
     "metadata": {},
     "output_type": "execute_result"
    }
   ],
   "source": [
    "young_woman_births.pivot(columns = \"Age\", values = [\"Year\", \"Race/ethnicity\", \"Rate (per 1,000 Females)\"]).stack()\n"
   ]
  },
  {
   "cell_type": "code",
   "execution_count": 17,
   "metadata": {},
   "outputs": [
    {
     "data": {
      "application/vnd.vegalite.v3+json": {
       "$schema": "https://vega.github.io/schema/vega-lite/v3.4.0.json",
       "config": {
        "mark": {
         "tooltip": null
        },
        "view": {
         "height": 300,
         "width": 400
        }
       },
       "data": {
        "name": "data-a85cf732932a9eb4064db5c88cbbb305"
       },
       "datasets": {
        "data-a85cf732932a9eb4064db5c88cbbb305": [
         {
          "Age": "Ages 18-19",
          "Race/ethnicity": "White, non-Hispanic",
          "Rate (per 1,000 Females)": 57.5,
          "Year": 2000
         },
         {
          "Age": "Ages 18-19",
          "Race/ethnicity": "White, non-Hispanic",
          "Rate (per 1,000 Females)": 54.7,
          "Year": 2001
         },
         {
          "Age": "Ages 18-19",
          "Race/ethnicity": "White, non-Hispanic",
          "Rate (per 1,000 Females)": 52,
          "Year": 2002
         },
         {
          "Age": "Ages 18-19",
          "Race/ethnicity": "White, non-Hispanic",
          "Rate (per 1,000 Females)": 52,
          "Year": 2003
         },
         {
          "Age": "Ages 18-19",
          "Race/ethnicity": "White, non-Hispanic",
          "Rate (per 1,000 Females)": 48.6,
          "Year": 2004
         },
         {
          "Age": "Ages 18-19",
          "Race/ethnicity": "White, non-Hispanic",
          "Rate (per 1,000 Females)": 48,
          "Year": 2005
         },
         {
          "Age": "Ages 18-19",
          "Race/ethnicity": "White, non-Hispanic",
          "Rate (per 1,000 Females)": 49.4,
          "Year": 2006
         },
         {
          "Age": "Ages 18-19",
          "Race/ethnicity": "White, non-Hispanic",
          "Rate (per 1,000 Females)": 50.4,
          "Year": 2007
         },
         {
          "Age": "Ages 18-19",
          "Race/ethnicity": "White, non-Hispanic",
          "Rate (per 1,000 Females)": 48.6,
          "Year": 2008
         },
         {
          "Age": "Ages 18-19",
          "Race/ethnicity": "White, non-Hispanic",
          "Rate (per 1,000 Females)": 46.2,
          "Year": 2009
         },
         {
          "Age": "Ages 18-19",
          "Race/ethnicity": "White, non-Hispanic",
          "Rate (per 1,000 Females)": 42.5,
          "Year": 2010
         },
         {
          "Age": "Ages 18-19",
          "Race/ethnicity": "White, non-Hispanic",
          "Rate (per 1,000 Females)": 39.9,
          "Year": 2011
         },
         {
          "Age": "Ages 18-19",
          "Race/ethnicity": "White, non-Hispanic",
          "Rate (per 1,000 Females)": 37.9,
          "Year": 2012
         },
         {
          "Age": "Ages 18-19",
          "Race/ethnicity": "White, non-Hispanic",
          "Rate (per 1,000 Females)": 35,
          "Year": 2013
         },
         {
          "Age": "Ages 18-19",
          "Race/ethnicity": "White, non-Hispanic",
          "Rate (per 1,000 Females)": 32.9,
          "Year": 2014
         },
         {
          "Age": "Ages 18-19",
          "Race/ethnicity": "Black, non-Hispanic ",
          "Rate (per 1,000 Females)": 121.9,
          "Year": 2000
         },
         {
          "Age": "Ages 18-19",
          "Race/ethnicity": "Black, non-Hispanic ",
          "Rate (per 1,000 Females)": 115.9,
          "Year": 2001
         },
         {
          "Age": "Ages 18-19",
          "Race/ethnicity": "Black, non-Hispanic ",
          "Rate (per 1,000 Females)": 109.5,
          "Year": 2002
         },
         {
          "Age": "Ages 18-19",
          "Race/ethnicity": "Black, non-Hispanic ",
          "Rate (per 1,000 Females)": 103.4,
          "Year": 2003
         },
         {
          "Age": "Ages 18-19",
          "Race/ethnicity": "Black, non-Hispanic ",
          "Rate (per 1,000 Females)": 101.6,
          "Year": 2004
         },
         {
          "Age": "Ages 18-19",
          "Race/ethnicity": "Black, non-Hispanic ",
          "Rate (per 1,000 Females)": 100.2,
          "Year": 2005
         },
         {
          "Age": "Ages 18-19",
          "Race/ethnicity": "Black, non-Hispanic ",
          "Rate (per 1,000 Females)": 105.1,
          "Year": 2006
         },
         {
          "Age": "Ages 18-19",
          "Race/ethnicity": "Black, non-Hispanic ",
          "Rate (per 1,000 Females)": 105.2,
          "Year": 2007
         },
         {
          "Age": "Ages 18-19",
          "Race/ethnicity": "Black, non-Hispanic ",
          "Rate (per 1,000 Females)": 100,
          "Year": 2008
         },
         {
          "Age": "Ages 18-19",
          "Race/ethnicity": "Black, non-Hispanic ",
          "Rate (per 1,000 Females)": 93.5,
          "Year": 2009
         },
         {
          "Age": "Ages 18-19",
          "Race/ethnicity": "Black, non-Hispanic ",
          "Rate (per 1,000 Females)": 85.6,
          "Year": 2010
         },
         {
          "Age": "Ages 18-19",
          "Race/ethnicity": "Black, non-Hispanic ",
          "Rate (per 1,000 Females)": 78.8,
          "Year": 2011
         },
         {
          "Age": "Ages 18-19",
          "Race/ethnicity": "Black, non-Hispanic ",
          "Rate (per 1,000 Females)": 74.1,
          "Year": 2012
         },
         {
          "Age": "Ages 18-19",
          "Race/ethnicity": "Black, non-Hispanic ",
          "Rate (per 1,000 Females)": 67,
          "Year": 2013
         },
         {
          "Age": "Ages 18-19",
          "Race/ethnicity": "Black, non-Hispanic ",
          "Rate (per 1,000 Females)": 61.5,
          "Year": 2014
         },
         {
          "Age": "Ages 18-19",
          "Race/ethnicity": "Hispanic",
          "Rate (per 1,000 Females)": 132.6,
          "Year": 2000
         },
         {
          "Age": "Ages 18-19",
          "Race/ethnicity": "Hispanic",
          "Rate (per 1,000 Females)": 131.3,
          "Year": 2001
         },
         {
          "Age": "Ages 18-19",
          "Race/ethnicity": "Hispanic",
          "Rate (per 1,000 Females)": 127.1,
          "Year": 2002
         },
         {
          "Age": "Ages 18-19",
          "Race/ethnicity": "Hispanic",
          "Rate (per 1,000 Females)": 124.8,
          "Year": 2003
         },
         {
          "Age": "Ages 18-19",
          "Race/ethnicity": "Hispanic",
          "Rate (per 1,000 Females)": 124.8,
          "Year": 2004
         },
         {
          "Age": "Ages 18-19",
          "Race/ethnicity": "Hispanic",
          "Rate (per 1,000 Females)": 124.4,
          "Year": 2005
         },
         {
          "Age": "Ages 18-19",
          "Race/ethnicity": "Hispanic",
          "Rate (per 1,000 Females)": 128.7,
          "Year": 2006
         },
         {
          "Age": "Ages 18-19",
          "Race/ethnicity": "Hispanic",
          "Rate (per 1,000 Females)": 124.7,
          "Year": 2007
         },
         {
          "Age": "Ages 18-19",
          "Race/ethnicity": "Hispanic",
          "Rate (per 1,000 Females)": 114,
          "Year": 2008
         },
         {
          "Age": "Ages 18-19",
          "Race/ethnicity": "Hispanic",
          "Rate (per 1,000 Females)": 103.3,
          "Year": 2009
         },
         {
          "Age": "Ages 18-19",
          "Race/ethnicity": "Hispanic",
          "Rate (per 1,000 Females)": 90.7,
          "Year": 2010
         },
         {
          "Age": "Ages 18-19",
          "Race/ethnicity": "Hispanic",
          "Rate (per 1,000 Females)": 81.5,
          "Year": 2011
         },
         {
          "Age": "Ages 18-19",
          "Race/ethnicity": "Hispanic",
          "Rate (per 1,000 Females)": 77.2,
          "Year": 2012
         },
         {
          "Age": "Ages 18-19",
          "Race/ethnicity": "Hispanic",
          "Rate (per 1,000 Females)": 70.8,
          "Year": 2013
         },
         {
          "Age": "Ages 18-19",
          "Race/ethnicity": "Hispanic",
          "Rate (per 1,000 Females)": 66.1,
          "Year": 2014
         },
         {
          "Age": "Ages 18-19",
          "Race/ethnicity": "American Indian/Alaska Native",
          "Rate (per 1,000 Females)": 97.1,
          "Year": 2000
         },
         {
          "Age": "Ages 18-19",
          "Race/ethnicity": "American Indian/Alaska Native",
          "Rate (per 1,000 Females)": 92.7,
          "Year": 2001
         },
         {
          "Age": "Ages 18-19",
          "Race/ethnicity": "American Indian/Alaska Native",
          "Rate (per 1,000 Females)": 85.3,
          "Year": 2002
         },
         {
          "Age": "Ages 18-19",
          "Race/ethnicity": "American Indian/Alaska Native",
          "Rate (per 1,000 Females)": 82.1,
          "Year": 2003
         },
         {
          "Age": "Ages 18-19",
          "Race/ethnicity": "American Indian/Alaska Native",
          "Rate (per 1,000 Females)": 79.9,
          "Year": 2004
         },
         {
          "Age": "Ages 18-19",
          "Race/ethnicity": "American Indian/Alaska Native",
          "Rate (per 1,000 Females)": 78,
          "Year": 2005
         },
         {
          "Age": "Ages 18-19",
          "Race/ethnicity": "American Indian/Alaska Native",
          "Rate (per 1,000 Females)": 80.8,
          "Year": 2006
         },
         {
          "Age": "Ages 18-19",
          "Race/ethnicity": "American Indian/Alaska Native",
          "Rate (per 1,000 Females)": 86.3,
          "Year": 2007
         },
         {
          "Age": "Ages 18-19",
          "Race/ethnicity": "American Indian/Alaska Native",
          "Rate (per 1,000 Females)": 80.2,
          "Year": 2008
         },
         {
          "Age": "Ages 18-19",
          "Race/ethnicity": "American Indian/Alaska Native",
          "Rate (per 1,000 Females)": 73.5,
          "Year": 2009
         },
         {
          "Age": "Ages 18-19",
          "Race/ethnicity": "American Indian/Alaska Native",
          "Rate (per 1,000 Females)": 66.1,
          "Year": 2010
         },
         {
          "Age": "Ages 18-19",
          "Race/ethnicity": "American Indian/Alaska Native",
          "Rate (per 1,000 Females)": 61.6,
          "Year": 2011
         },
         {
          "Age": "Ages 18-19",
          "Race/ethnicity": "American Indian/Alaska Native",
          "Rate (per 1,000 Females)": 60.5,
          "Year": 2012
         },
         {
          "Age": "Ages 18-19",
          "Race/ethnicity": "American Indian/Alaska Native",
          "Rate (per 1,000 Females)": 53.3,
          "Year": 2013
         },
         {
          "Age": "Ages 18-19",
          "Race/ethnicity": "American Indian/Alaska Native",
          "Rate (per 1,000 Females)": 48.6,
          "Year": 2014
         },
         {
          "Age": "Ages 18-19",
          "Race/ethnicity": "Asian/Pacific Islander",
          "Rate (per 1,000 Females)": 32.6,
          "Year": 2000
         },
         {
          "Age": "Ages 18-19",
          "Race/ethnicity": "Asian/Pacific Islander",
          "Rate (per 1,000 Females)": 32,
          "Year": 2001
         },
         {
          "Age": "Ages 18-19",
          "Race/ethnicity": "Asian/Pacific Islander",
          "Rate (per 1,000 Females)": 29.9,
          "Year": 2002
         },
         {
          "Age": "Ages 18-19",
          "Race/ethnicity": "Asian/Pacific Islander",
          "Rate (per 1,000 Females)": 27.3,
          "Year": 2003
         },
         {
          "Age": "Ages 18-19",
          "Race/ethnicity": "Asian/Pacific Islander",
          "Rate (per 1,000 Females)": 26.6,
          "Year": 2004
         },
         {
          "Age": "Ages 18-19",
          "Race/ethnicity": "Asian/Pacific Islander",
          "Rate (per 1,000 Females)": 26.4,
          "Year": 2005
         },
         {
          "Age": "Ages 18-19",
          "Race/ethnicity": "Asian/Pacific Islander",
          "Rate (per 1,000 Females)": 25.4,
          "Year": 2006
         },
         {
          "Age": "Ages 18-19",
          "Race/ethnicity": "Asian/Pacific Islander",
          "Rate (per 1,000 Females)": 24.9,
          "Year": 2007
         },
         {
          "Age": "Ages 18-19",
          "Race/ethnicity": "Asian/Pacific Islander",
          "Rate (per 1,000 Females)": 23,
          "Year": 2008
         },
         {
          "Age": "Ages 18-19",
          "Race/ethnicity": "Asian/Pacific Islander",
          "Rate (per 1,000 Females)": 20.9,
          "Year": 2009
         },
         {
          "Age": "Ages 18-19",
          "Race/ethnicity": "Asian/Pacific Islander",
          "Rate (per 1,000 Females)": 18.7,
          "Year": 2010
         },
         {
          "Age": "Ages 18-19",
          "Race/ethnicity": "Asian/Pacific Islander",
          "Rate (per 1,000 Females)": 18.1,
          "Year": 2011
         },
         {
          "Age": "Ages 18-19",
          "Race/ethnicity": "Asian/Pacific Islander",
          "Rate (per 1,000 Females)": 17.7,
          "Year": 2012
         },
         {
          "Age": "Ages 18-19",
          "Race/ethnicity": "Asian/Pacific Islander",
          "Rate (per 1,000 Females)": 16.1,
          "Year": 2013
         },
         {
          "Age": "Ages 18-19",
          "Race/ethnicity": "Asian/Pacific Islander",
          "Rate (per 1,000 Females)": 13.9,
          "Year": 2014
         },
         {
          "Age": "Ages 20-24",
          "Race/ethnicity": "White, non-Hispanic",
          "Rate (per 1,000 Females)": 91.2,
          "Year": 2000
         },
         {
          "Age": "Ages 20-24",
          "Race/ethnicity": "White, non-Hispanic",
          "Rate (per 1,000 Females)": 87,
          "Year": 2001
         },
         {
          "Age": "Ages 20-24",
          "Race/ethnicity": "White, non-Hispanic",
          "Rate (per 1,000 Females)": 84.7,
          "Year": 2002
         },
         {
          "Age": "Ages 20-24",
          "Race/ethnicity": "White, non-Hispanic",
          "Rate (per 1,000 Females)": 84.1,
          "Year": 2003
         },
         {
          "Age": "Ages 20-24",
          "Race/ethnicity": "White, non-Hispanic",
          "Rate (per 1,000 Females)": 83,
          "Year": 2004
         },
         {
          "Age": "Ages 20-24",
          "Race/ethnicity": "White, non-Hispanic",
          "Rate (per 1,000 Females)": 82.7,
          "Year": 2005
         },
         {
          "Age": "Ages 20-24",
          "Race/ethnicity": "White, non-Hispanic",
          "Rate (per 1,000 Females)": 85.1,
          "Year": 2006
         },
         {
          "Age": "Ages 20-24",
          "Race/ethnicity": "White, non-Hispanic",
          "Rate (per 1,000 Females)": 85.1,
          "Year": 2007
         },
         {
          "Age": "Ages 20-24",
          "Race/ethnicity": "White, non-Hispanic",
          "Rate (per 1,000 Females)": 82.8,
          "Year": 2008
         },
         {
          "Age": "Ages 20-24",
          "Race/ethnicity": "White, non-Hispanic",
          "Rate (per 1,000 Females)": 79.2,
          "Year": 2009
         },
         {
          "Age": "Ages 20-24",
          "Race/ethnicity": "White, non-Hispanic",
          "Rate (per 1,000 Females)": 74.9,
          "Year": 2010
         },
         {
          "Age": "Ages 20-24",
          "Race/ethnicity": "White, non-Hispanic",
          "Rate (per 1,000 Females)": 71.8,
          "Year": 2011
         },
         {
          "Age": "Ages 20-24",
          "Race/ethnicity": "White, non-Hispanic",
          "Rate (per 1,000 Females)": 70.2,
          "Year": 2012
         },
         {
          "Age": "Ages 20-24",
          "Race/ethnicity": "White, non-Hispanic",
          "Rate (per 1,000 Females)": 68.3,
          "Year": 2013
         },
         {
          "Age": "Ages 20-24",
          "Race/ethnicity": "White, non-Hispanic",
          "Rate (per 1,000 Females)": 67.1,
          "Year": 2014
         },
         {
          "Age": "Ages 20-24",
          "Race/ethnicity": "Black, non-Hispanic",
          "Rate (per 1,000 Females)": 145.4,
          "Year": 2000
         },
         {
          "Age": "Ages 20-24",
          "Race/ethnicity": "Black, non-Hispanic",
          "Rate (per 1,000 Females)": 137.3,
          "Year": 2001
         },
         {
          "Age": "Ages 20-24",
          "Race/ethnicity": "Black, non-Hispanic",
          "Rate (per 1,000 Females)": 131.4,
          "Year": 2002
         },
         {
          "Age": "Ages 20-24",
          "Race/ethnicity": "Black, non-Hispanic",
          "Rate (per 1,000 Females)": 128.8,
          "Year": 2003
         },
         {
          "Age": "Ages 20-24",
          "Race/ethnicity": "Black, non-Hispanic",
          "Rate (per 1,000 Females)": 127.9,
          "Year": 2004
         },
         {
          "Age": "Ages 20-24",
          "Race/ethnicity": "Black, non-Hispanic",
          "Rate (per 1,000 Females)": 127.9,
          "Year": 2005
         },
         {
          "Age": "Ages 20-24",
          "Race/ethnicity": "Black, non-Hispanic",
          "Rate (per 1,000 Females)": 134.4,
          "Year": 2006
         },
         {
          "Age": "Ages 20-24",
          "Race/ethnicity": "Black, non-Hispanic",
          "Rate (per 1,000 Females)": 134.5,
          "Year": 2007
         },
         {
          "Age": "Ages 20-24",
          "Race/ethnicity": "Black, non-Hispanic",
          "Rate (per 1,000 Females)": 131.6,
          "Year": 2008
         },
         {
          "Age": "Ages 20-24",
          "Race/ethnicity": "Black, non-Hispanic",
          "Rate (per 1,000 Females)": 125.9,
          "Year": 2009
         },
         {
          "Age": "Ages 20-24",
          "Race/ethnicity": "Black, non-Hispanic",
          "Rate (per 1,000 Females)": 119.4,
          "Year": 2010
         },
         {
          "Age": "Ages 20-24",
          "Race/ethnicity": "Black, non-Hispanic",
          "Rate (per 1,000 Females)": 112.3,
          "Year": 2011
         },
         {
          "Age": "Ages 20-24",
          "Race/ethnicity": "Black, non-Hispanic",
          "Rate (per 1,000 Females)": 109,
          "Year": 2012
         },
         {
          "Age": "Ages 20-24",
          "Race/ethnicity": "Black, non-Hispanic",
          "Rate (per 1,000 Females)": 105.6,
          "Year": 2013
         },
         {
          "Age": "Ages 20-24",
          "Race/ethnicity": "Black, non-Hispanic",
          "Rate (per 1,000 Females)": 102.8,
          "Year": 2014
         },
         {
          "Age": "Ages 20-24",
          "Race/ethnicity": "Hispanic,Ages 20-24",
          "Rate (per 1,000 Females)": 161.3,
          "Year": 2000
         },
         {
          "Age": "Ages 20-24",
          "Race/ethnicity": "Hispanic,Ages 20-24",
          "Rate (per 1,000 Females)": 160.5,
          "Year": 2001
         },
         {
          "Age": "Ages 20-24",
          "Race/ethnicity": "Hispanic,Ages 20-24",
          "Rate (per 1,000 Females)": 159,
          "Year": 2002
         },
         {
          "Age": "Ages 20-24",
          "Race/ethnicity": "Hispanic,Ages 20-24",
          "Rate (per 1,000 Females)": 159.1,
          "Year": 2003
         },
         {
          "Age": "Ages 20-24",
          "Race/ethnicity": "Hispanic,Ages 20-24",
          "Rate (per 1,000 Females)": 159.2,
          "Year": 2004
         },
         {
          "Age": "Ages 20-24",
          "Race/ethnicity": "Hispanic,Ages 20-24",
          "Rate (per 1,000 Females)": 161.1,
          "Year": 2005
         },
         {
          "Age": "Ages 20-24",
          "Race/ethnicity": "Hispanic,Ages 20-24",
          "Rate (per 1,000 Females)": 166.7,
          "Year": 2006
         },
         {
          "Age": "Ages 20-24",
          "Race/ethnicity": "Hispanic,Ages 20-24",
          "Rate (per 1,000 Females)": 164.6,
          "Year": 2007
         },
         {
          "Age": "Ages 20-24",
          "Race/ethnicity": "Hispanic,Ages 20-24",
          "Rate (per 1,000 Females)": 154.1,
          "Year": 2008
         },
         {
          "Age": "Ages 20-24",
          "Race/ethnicity": "Hispanic,Ages 20-24",
          "Rate (per 1,000 Females)": 140.1,
          "Year": 2009
         },
         {
          "Age": "Ages 20-24",
          "Race/ethnicity": "Hispanic,Ages 20-24",
          "Rate (per 1,000 Females)": 126.1,
          "Year": 2010
         },
         {
          "Age": "Ages 20-24",
          "Race/ethnicity": "Hispanic,Ages 20-24",
          "Rate (per 1,000 Females)": 116,
          "Year": 2011
         },
         {
          "Age": "Ages 20-24",
          "Race/ethnicity": "Hispanic,Ages 20-24",
          "Rate (per 1,000 Females)": 111.5,
          "Year": 2012
         },
         {
          "Age": "Ages 20-24",
          "Race/ethnicity": "Hispanic,Ages 20-24",
          "Rate (per 1,000 Females)": 107.2,
          "Year": 2013
         },
         {
          "Age": "Ages 20-24",
          "Race/ethnicity": "Hispanic,Ages 20-24",
          "Rate (per 1,000 Females)": 104.5,
          "Year": 2014
         },
         {
          "Age": "Ages 20-24",
          "Race/ethnicity": "American Indian/Alaska Native",
          "Rate (per 1,000 Females)": 117.2,
          "Year": 2000
         },
         {
          "Age": "Ages 20-24",
          "Race/ethnicity": "American Indian/Alaska Native",
          "Rate (per 1,000 Females)": 113.8,
          "Year": 2001
         },
         {
          "Age": "Ages 20-24",
          "Race/ethnicity": "American Indian/Alaska Native",
          "Rate (per 1,000 Females)": 110.7,
          "Year": 2002
         },
         {
          "Age": "Ages 20-24",
          "Race/ethnicity": "American Indian/Alaska Native",
          "Rate (per 1,000 Females)": 107,
          "Year": 2003
         },
         {
          "Age": "Ages 20-24",
          "Race/ethnicity": "American Indian/Alaska Native",
          "Rate (per 1,000 Females)": 105.4,
          "Year": 2004
         },
         {
          "Age": "Ages 20-24",
          "Race/ethnicity": "American Indian/Alaska Native",
          "Rate (per 1,000 Females)": 102.9,
          "Year": 2005
         },
         {
          "Age": "Ages 20-24",
          "Race/ethnicity": "American Indian/Alaska Native",
          "Rate (per 1,000 Females)": 106.8,
          "Year": 2006
         },
         {
          "Age": "Ages 20-24",
          "Race/ethnicity": "American Indian/Alaska Native",
          "Rate (per 1,000 Females)": 105.8,
          "Year": 2007
         },
         {
          "Age": "Ages 20-24",
          "Race/ethnicity": "American Indian/Alaska Native",
          "Rate (per 1,000 Females)": 102.7,
          "Year": 2008
         },
         {
          "Age": "Ages 20-24",
          "Race/ethnicity": "American Indian/Alaska Native",
          "Rate (per 1,000 Females)": 96.3,
          "Year": 2009
         },
         {
          "Age": "Ages 20-24",
          "Race/ethnicity": "American Indian/Alaska Native",
          "Rate (per 1,000 Females)": 91,
          "Year": 2010
         },
         {
          "Age": "Ages 20-24",
          "Race/ethnicity": "American Indian/Alaska Native",
          "Rate (per 1,000 Females)": 86.6,
          "Year": 2011
         },
         {
          "Age": "Ages 20-24",
          "Race/ethnicity": "American Indian/Alaska Native",
          "Rate (per 1,000 Females)": 81.7,
          "Year": 2012
         },
         {
          "Age": "Ages 20-24",
          "Race/ethnicity": "American Indian/Alaska Native",
          "Rate (per 1,000 Females)": 78.9,
          "Year": 2013
         },
         {
          "Age": "Ages 20-24",
          "Race/ethnicity": "American Indian/Alaska Native",
          "Rate (per 1,000 Females)": 73.2,
          "Year": 2014
         },
         {
          "Age": "Ages 20-24",
          "Race/ethnicity": "Asian/Pacific Islander",
          "Rate (per 1,000 Females)": 60.3,
          "Year": 2000
         },
         {
          "Age": "Ages 20-24",
          "Race/ethnicity": "Asian/Pacific Islander",
          "Rate (per 1,000 Females)": 56,
          "Year": 2001
         },
         {
          "Age": "Ages 20-24",
          "Race/ethnicity": "Asian/Pacific Islander",
          "Rate (per 1,000 Females)": 55.5,
          "Year": 2002
         },
         {
          "Age": "Ages 20-24",
          "Race/ethnicity": "Asian/Pacific Islander",
          "Rate (per 1,000 Females)": 54.3,
          "Year": 2003
         },
         {
          "Age": "Ages 20-24",
          "Race/ethnicity": "Asian/Pacific Islander",
          "Rate (per 1,000 Females)": 53.3,
          "Year": 2004
         },
         {
          "Age": "Ages 20-24",
          "Race/ethnicity": "Asian/Pacific Islander",
          "Rate (per 1,000 Females)": 52.9,
          "Year": 2005
         },
         {
          "Age": "Ages 20-24",
          "Race/ethnicity": "Asian/Pacific Islander",
          "Rate (per 1,000 Females)": 53.8,
          "Year": 2006
         },
         {
          "Age": "Ages 20-24",
          "Race/ethnicity": "Asian/Pacific Islander",
          "Rate (per 1,000 Females)": 53.2,
          "Year": 2007
         },
         {
          "Age": "Ages 20-24",
          "Race/ethnicity": "Asian/Pacific Islander",
          "Rate (per 1,000 Females)": 50.4,
          "Year": 2008
         },
         {
          "Age": "Ages 20-24",
          "Race/ethnicity": "Asian/Pacific Islander",
          "Rate (per 1,000 Females)": 46.4,
          "Year": 2009
         },
         {
          "Age": "Ages 20-24",
          "Race/ethnicity": "Asian/Pacific Islander",
          "Rate (per 1,000 Females)": 42.6,
          "Year": 2010
         },
         {
          "Age": "Ages 20-24",
          "Race/ethnicity": "Asian/Pacific Islander",
          "Rate (per 1,000 Females)": 41.9,
          "Year": 2011
         },
         {
          "Age": "Ages 20-24",
          "Race/ethnicity": "Asian/Pacific Islander",
          "Rate (per 1,000 Females)": 41.4,
          "Year": 2012
         },
         {
          "Age": "Ages 20-24",
          "Race/ethnicity": "Asian/Pacific Islander",
          "Rate (per 1,000 Females)": 39.1,
          "Year": 2013
         },
         {
          "Age": "Ages 20-24",
          "Race/ethnicity": "Asian/Pacific Islander",
          "Rate (per 1,000 Females)": 37.5,
          "Year": 2014
         }
        ]
       },
       "encoding": {
        "color": {
         "field": "Race/ethnicity",
         "type": "nominal"
        },
        "x": {
         "field": "Year",
         "type": "ordinal"
        },
        "y": {
         "field": "Rate (per 1,000 Females)",
         "type": "quantitative"
        }
       },
       "mark": "line"
      },
      "image/png": "[encoded data removed]",
      "text/plain": [
       "<VegaLite 3 object>\n",
       "\n",
       "If you see this message, it means the renderer has not been properly enabled\n",
       "for the frontend that you are using. For more information, see\n",
       "https://altair-viz.github.io/user_guide/troubleshooting.html\n"
      ]
     },
     "execution_count": 17,
     "metadata": {},
     "output_type": "execute_result"
    }
   ],
   "source": [
    "alt.Chart(young_woman_births).mark_line().encode(\n",
    "    x = alt.X(\"Year:O\"),\n",
    "    y = alt.Y(\"Rate (per 1,000 Females):Q\"),\n",
    "    color = alt.Color(\"Race/ethnicity\"))"
   ]
  },
  {
   "cell_type": "code",
   "execution_count": 18,
   "metadata": {},
   "outputs": [
    {
     "data": {
      "text/html": [
       "<div>\n",
       "<style scoped>\n",
       "    .dataframe tbody tr th:only-of-type {\n",
       "        vertical-align: middle;\n",
       "    }\n",
       "\n",
       "    .dataframe tbody tr th {\n",
       "        vertical-align: top;\n",
       "    }\n",
       "\n",
       "    .dataframe thead th {\n",
       "        text-align: right;\n",
       "    }\n",
       "</style>\n",
       "<table border=\"1\" class=\"dataframe\">\n",
       "  <thead>\n",
       "    <tr style=\"text-align: right;\">\n",
       "      <th></th>\n",
       "      <th>Race/ethnicity</th>\n",
       "      <th>Year</th>\n",
       "      <th>Rate (per 1,000 Females)_x</th>\n",
       "      <th>Age_x</th>\n",
       "      <th>Rate (per 1,000 Females)_y</th>\n",
       "      <th>Age_y</th>\n",
       "    </tr>\n",
       "  </thead>\n",
       "  <tbody>\n",
       "    <tr>\n",
       "      <th>0</th>\n",
       "      <td>White, non-Hispanic</td>\n",
       "      <td>2000</td>\n",
       "      <td>15.8</td>\n",
       "      <td>Ages 15-17</td>\n",
       "      <td>57.5</td>\n",
       "      <td>Ages 18-19</td>\n",
       "    </tr>\n",
       "    <tr>\n",
       "      <th>1</th>\n",
       "      <td>White, non-Hispanic</td>\n",
       "      <td>2000</td>\n",
       "      <td>15.8</td>\n",
       "      <td>Ages 15-17</td>\n",
       "      <td>91.2</td>\n",
       "      <td>Ages 20-24</td>\n",
       "    </tr>\n",
       "    <tr>\n",
       "      <th>2</th>\n",
       "      <td>White, non-Hispanic</td>\n",
       "      <td>2001</td>\n",
       "      <td>14.0</td>\n",
       "      <td>Ages 15-17</td>\n",
       "      <td>54.7</td>\n",
       "      <td>Ages 18-19</td>\n",
       "    </tr>\n",
       "    <tr>\n",
       "      <th>3</th>\n",
       "      <td>White, non-Hispanic</td>\n",
       "      <td>2001</td>\n",
       "      <td>14.0</td>\n",
       "      <td>Ages 15-17</td>\n",
       "      <td>87.0</td>\n",
       "      <td>Ages 20-24</td>\n",
       "    </tr>\n",
       "    <tr>\n",
       "      <th>4</th>\n",
       "      <td>White, non-Hispanic</td>\n",
       "      <td>2002</td>\n",
       "      <td>13.1</td>\n",
       "      <td>Ages 15-17</td>\n",
       "      <td>52.0</td>\n",
       "      <td>Ages 18-19</td>\n",
       "    </tr>\n",
       "    <tr>\n",
       "      <th>...</th>\n",
       "      <td>...</td>\n",
       "      <td>...</td>\n",
       "      <td>...</td>\n",
       "      <td>...</td>\n",
       "      <td>...</td>\n",
       "      <td>...</td>\n",
       "    </tr>\n",
       "    <tr>\n",
       "      <th>115</th>\n",
       "      <td>Asian/Pacific Islander</td>\n",
       "      <td>2012</td>\n",
       "      <td>4.1</td>\n",
       "      <td>Ages 15-17</td>\n",
       "      <td>41.4</td>\n",
       "      <td>Ages 20-24</td>\n",
       "    </tr>\n",
       "    <tr>\n",
       "      <th>116</th>\n",
       "      <td>Asian/Pacific Islander</td>\n",
       "      <td>2013</td>\n",
       "      <td>3.7</td>\n",
       "      <td>Ages 15-17</td>\n",
       "      <td>16.1</td>\n",
       "      <td>Ages 18-19</td>\n",
       "    </tr>\n",
       "    <tr>\n",
       "      <th>117</th>\n",
       "      <td>Asian/Pacific Islander</td>\n",
       "      <td>2013</td>\n",
       "      <td>3.7</td>\n",
       "      <td>Ages 15-17</td>\n",
       "      <td>39.1</td>\n",
       "      <td>Ages 20-24</td>\n",
       "    </tr>\n",
       "    <tr>\n",
       "      <th>118</th>\n",
       "      <td>Asian/Pacific Islander</td>\n",
       "      <td>2014</td>\n",
       "      <td>3.3</td>\n",
       "      <td>Ages 15-17</td>\n",
       "      <td>13.9</td>\n",
       "      <td>Ages 18-19</td>\n",
       "    </tr>\n",
       "    <tr>\n",
       "      <th>119</th>\n",
       "      <td>Asian/Pacific Islander</td>\n",
       "      <td>2014</td>\n",
       "      <td>3.3</td>\n",
       "      <td>Ages 15-17</td>\n",
       "      <td>37.5</td>\n",
       "      <td>Ages 20-24</td>\n",
       "    </tr>\n",
       "  </tbody>\n",
       "</table>\n",
       "<p>120 rows × 6 columns</p>\n",
       "</div>"
      ],
      "text/plain": [
       "             Race/ethnicity  Year  Rate (per 1,000 Females)_x       Age_x  \\\n",
       "0       White, non-Hispanic  2000                        15.8  Ages 15-17   \n",
       "1       White, non-Hispanic  2000                        15.8  Ages 15-17   \n",
       "2       White, non-Hispanic  2001                        14.0  Ages 15-17   \n",
       "3       White, non-Hispanic  2001                        14.0  Ages 15-17   \n",
       "4       White, non-Hispanic  2002                        13.1  Ages 15-17   \n",
       "..                      ...   ...                         ...         ...   \n",
       "115  Asian/Pacific Islander  2012                         4.1  Ages 15-17   \n",
       "116  Asian/Pacific Islander  2013                         3.7  Ages 15-17   \n",
       "117  Asian/Pacific Islander  2013                         3.7  Ages 15-17   \n",
       "118  Asian/Pacific Islander  2014                         3.3  Ages 15-17   \n",
       "119  Asian/Pacific Islander  2014                         3.3  Ages 15-17   \n",
       "\n",
       "     Rate (per 1,000 Females)_y       Age_y  \n",
       "0                          57.5  Ages 18-19  \n",
       "1                          91.2  Ages 20-24  \n",
       "2                          54.7  Ages 18-19  \n",
       "3                          87.0  Ages 20-24  \n",
       "4                          52.0  Ages 18-19  \n",
       "..                          ...         ...  \n",
       "115                        41.4  Ages 20-24  \n",
       "116                        16.1  Ages 18-19  \n",
       "117                        39.1  Ages 20-24  \n",
       "118                        13.9  Ages 18-19  \n",
       "119                        37.5  Ages 20-24  \n",
       "\n",
       "[120 rows x 6 columns]"
      ]
     },
     "execution_count": 18,
     "metadata": {},
     "output_type": "execute_result"
    }
   ],
   "source": [
    "adolesent_births.merge(young_woman_births, on = ['Race/ethnicity', 'Year'], how='inner')"
   ]
  },
  {
   "cell_type": "code",
   "execution_count": 19,
   "metadata": {},
   "outputs": [
    {
     "data": {
      "text/html": [
       "<div>\n",
       "<style scoped>\n",
       "    .dataframe tbody tr th:only-of-type {\n",
       "        vertical-align: middle;\n",
       "    }\n",
       "\n",
       "    .dataframe tbody tr th {\n",
       "        vertical-align: top;\n",
       "    }\n",
       "\n",
       "    .dataframe thead th {\n",
       "        text-align: right;\n",
       "    }\n",
       "</style>\n",
       "<table border=\"1\" class=\"dataframe\">\n",
       "  <thead>\n",
       "    <tr style=\"text-align: right;\">\n",
       "      <th></th>\n",
       "      <th>Race/ethnicity</th>\n",
       "      <th>Year</th>\n",
       "      <th>Rate (per 1,000 Females)</th>\n",
       "      <th>Age</th>\n",
       "    </tr>\n",
       "  </thead>\n",
       "  <tbody>\n",
       "    <tr>\n",
       "      <th>15</th>\n",
       "      <td>White, non-Hispanic</td>\n",
       "      <td>2000</td>\n",
       "      <td>57.5</td>\n",
       "      <td>Ages 18-19</td>\n",
       "    </tr>\n",
       "    <tr>\n",
       "      <th>16</th>\n",
       "      <td>White, non-Hispanic</td>\n",
       "      <td>2001</td>\n",
       "      <td>54.7</td>\n",
       "      <td>Ages 18-19</td>\n",
       "    </tr>\n",
       "    <tr>\n",
       "      <th>17</th>\n",
       "      <td>White, non-Hispanic</td>\n",
       "      <td>2002</td>\n",
       "      <td>52.0</td>\n",
       "      <td>Ages 18-19</td>\n",
       "    </tr>\n",
       "    <tr>\n",
       "      <th>18</th>\n",
       "      <td>White, non-Hispanic</td>\n",
       "      <td>2003</td>\n",
       "      <td>52.0</td>\n",
       "      <td>Ages 18-19</td>\n",
       "    </tr>\n",
       "    <tr>\n",
       "      <th>19</th>\n",
       "      <td>White, non-Hispanic</td>\n",
       "      <td>2004</td>\n",
       "      <td>48.6</td>\n",
       "      <td>Ages 18-19</td>\n",
       "    </tr>\n",
       "    <tr>\n",
       "      <th>...</th>\n",
       "      <td>...</td>\n",
       "      <td>...</td>\n",
       "      <td>...</td>\n",
       "      <td>...</td>\n",
       "    </tr>\n",
       "    <tr>\n",
       "      <th>175</th>\n",
       "      <td>Asian/Pacific Islander</td>\n",
       "      <td>2010</td>\n",
       "      <td>42.6</td>\n",
       "      <td>Ages 20-24</td>\n",
       "    </tr>\n",
       "    <tr>\n",
       "      <th>176</th>\n",
       "      <td>Asian/Pacific Islander</td>\n",
       "      <td>2011</td>\n",
       "      <td>41.9</td>\n",
       "      <td>Ages 20-24</td>\n",
       "    </tr>\n",
       "    <tr>\n",
       "      <th>177</th>\n",
       "      <td>Asian/Pacific Islander</td>\n",
       "      <td>2012</td>\n",
       "      <td>41.4</td>\n",
       "      <td>Ages 20-24</td>\n",
       "    </tr>\n",
       "    <tr>\n",
       "      <th>178</th>\n",
       "      <td>Asian/Pacific Islander</td>\n",
       "      <td>2013</td>\n",
       "      <td>39.1</td>\n",
       "      <td>Ages 20-24</td>\n",
       "    </tr>\n",
       "    <tr>\n",
       "      <th>179</th>\n",
       "      <td>Asian/Pacific Islander</td>\n",
       "      <td>2014</td>\n",
       "      <td>37.5</td>\n",
       "      <td>Ages 20-24</td>\n",
       "    </tr>\n",
       "  </tbody>\n",
       "</table>\n",
       "<p>150 rows × 4 columns</p>\n",
       "</div>"
      ],
      "text/plain": [
       "             Race/ethnicity  Year  Rate (per 1,000 Females)         Age\n",
       "15      White, non-Hispanic  2000                      57.5  Ages 18-19\n",
       "16      White, non-Hispanic  2001                      54.7  Ages 18-19\n",
       "17      White, non-Hispanic  2002                      52.0  Ages 18-19\n",
       "18      White, non-Hispanic  2003                      52.0  Ages 18-19\n",
       "19      White, non-Hispanic  2004                      48.6  Ages 18-19\n",
       "..                      ...   ...                       ...         ...\n",
       "175  Asian/Pacific Islander  2010                      42.6  Ages 20-24\n",
       "176  Asian/Pacific Islander  2011                      41.9  Ages 20-24\n",
       "177  Asian/Pacific Islander  2012                      41.4  Ages 20-24\n",
       "178  Asian/Pacific Islander  2013                      39.1  Ages 20-24\n",
       "179  Asian/Pacific Islander  2014                      37.5  Ages 20-24\n",
       "\n",
       "[150 rows x 4 columns]"
      ]
     },
     "execution_count": 19,
     "metadata": {},
     "output_type": "execute_result"
    }
   ],
   "source": [
    "young_woman_births"
   ]
  }
 ],
 "metadata": {
  "kernelspec": {
   "display_name": "Python 3",
   "language": "python",
   "name": "python3"
  },
  "language_info": {
   "codemirror_mode": {
    "name": "ipython",
    "version": 3
   },
   "file_extension": ".py",
   "mimetype": "text/x-python",
   "name": "python",
   "nbconvert_exporter": "python",
   "pygments_lexer": "ipython3",
   "version": "3.7.4"
  }
 },
 "nbformat": 4,
 "nbformat_minor": 4
}
